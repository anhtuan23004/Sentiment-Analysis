{
 "cells": [
  {
   "cell_type": "markdown",
   "id": "f8dc3b5e",
   "metadata": {
    "papermill": {
     "duration": 0.012382,
     "end_time": "2025-06-02T18:57:53.309477",
     "exception": false,
     "start_time": "2025-06-02T18:57:53.297095",
     "status": "completed"
    },
    "tags": []
   },
   "source": [
    "### ***Import Libarays***"
   ]
  },
  {
   "cell_type": "code",
   "execution_count": 1,
   "id": "f0c24716",
   "metadata": {
    "execution": {
     "iopub.execute_input": "2025-06-02T18:57:53.332677Z",
     "iopub.status.busy": "2025-06-02T18:57:53.332417Z",
     "iopub.status.idle": "2025-06-02T18:57:57.698734Z",
     "shell.execute_reply": "2025-06-02T18:57:57.697948Z"
    },
    "papermill": {
     "duration": 4.379597,
     "end_time": "2025-06-02T18:57:57.700116",
     "exception": false,
     "start_time": "2025-06-02T18:57:53.320519",
     "status": "completed"
    },
    "tags": []
   },
   "outputs": [],
   "source": [
    "import nltk\n",
    "nltk.download('stopwords')\n",
    "nltk.download('punkt')\n",
    "nltk.download('wordnet')\n",
    "nltk.download('omw-1.4')\n",
    "from IPython.display import clear_output\n",
    "clear_output()"
   ]
  },
  {
   "cell_type": "code",
   "execution_count": 2,
   "id": "52d78c0a",
   "metadata": {
    "_cell_guid": "b1076dfc-b9ad-4769-8c92-a6c4dae69d19",
    "_uuid": "8f2839f25d086af736a60e9eeb907d3b93b6e0e5",
    "execution": {
     "iopub.execute_input": "2025-06-02T18:57:57.724759Z",
     "iopub.status.busy": "2025-06-02T18:57:57.723714Z",
     "iopub.status.idle": "2025-06-02T18:58:41.962347Z",
     "shell.execute_reply": "2025-06-02T18:58:41.961442Z"
    },
    "papermill": {
     "duration": 44.264113,
     "end_time": "2025-06-02T18:58:41.975919",
     "exception": false,
     "start_time": "2025-06-02T18:57:57.711806",
     "status": "completed"
    },
    "tags": []
   },
   "outputs": [
    {
     "name": "stderr",
     "output_type": "stream",
     "text": [
      "2025-06-02 18:58:24.813518: E external/local_xla/xla/stream_executor/cuda/cuda_fft.cc:477] Unable to register cuFFT factory: Attempting to register factory for plugin cuFFT when one has already been registered\n",
      "WARNING: All log messages before absl::InitializeLog() is called are written to STDERR\n",
      "E0000 00:00:1748890705.235741      19 cuda_dnn.cc:8310] Unable to register cuDNN factory: Attempting to register factory for plugin cuDNN when one has already been registered\n",
      "E0000 00:00:1748890705.351014      19 cuda_blas.cc:1418] Unable to register cuBLAS factory: Attempting to register factory for plugin cuBLAS when one has already been registered\n"
     ]
    },
    {
     "name": "stdout",
     "output_type": "stream",
     "text": [
      "compelet\n"
     ]
    }
   ],
   "source": [
    "import pandas as pd\n",
    "import numpy as np\n",
    "import matplotlib.pyplot as plt\n",
    "import seaborn as sns\n",
    "from sklearn.model_selection import train_test_split\n",
    "\n",
    "import re\n",
    "import nltk\n",
    "from nltk.corpus import stopwords\n",
    "from nltk.tokenize import word_tokenize\n",
    "from nltk.stem import WordNetLemmatizer\n",
    "from bs4 import BeautifulSoup\n",
    "\n",
    "import torch\n",
    "import os\n",
    "from tqdm import tqdm\n",
    "from transformers import RobertaTokenizer, RobertaForSequenceClassification\n",
    "from torch.optim import AdamW\n",
    "from transformers import  get_cosine_schedule_with_warmup\n",
    "from torch.utils.data import TensorDataset, DataLoader, RandomSampler, SequentialSampler\n",
    "from sklearn.metrics import accuracy_score\n",
    "from sklearn.metrics import accuracy_score, precision_score, recall_score, f1_score, classification_report, confusion_matrix\n",
    "import seaborn as sns\n",
    "\n",
    "import warnings\n",
    "warnings.simplefilter(\"ignore\", category=FutureWarning)\n",
    "print('compelet')\n"
   ]
  },
  {
   "cell_type": "markdown",
   "id": "990f4f5d",
   "metadata": {
    "papermill": {
     "duration": 0.011607,
     "end_time": "2025-06-02T18:58:41.999522",
     "exception": false,
     "start_time": "2025-06-02T18:58:41.987915",
     "status": "completed"
    },
    "tags": []
   },
   "source": [
    "### ***Data Exploring***"
   ]
  },
  {
   "cell_type": "code",
   "execution_count": 3,
   "id": "a9263ac4",
   "metadata": {
    "execution": {
     "iopub.execute_input": "2025-06-02T18:58:42.041033Z",
     "iopub.status.busy": "2025-06-02T18:58:42.039958Z",
     "iopub.status.idle": "2025-06-02T18:58:43.610402Z",
     "shell.execute_reply": "2025-06-02T18:58:43.609538Z"
    },
    "papermill": {
     "duration": 1.593827,
     "end_time": "2025-06-02T18:58:43.611885",
     "exception": false,
     "start_time": "2025-06-02T18:58:42.018058",
     "status": "completed"
    },
    "tags": []
   },
   "outputs": [
    {
     "data": {
      "text/html": [
       "<div>\n",
       "<style scoped>\n",
       "    .dataframe tbody tr th:only-of-type {\n",
       "        vertical-align: middle;\n",
       "    }\n",
       "\n",
       "    .dataframe tbody tr th {\n",
       "        vertical-align: top;\n",
       "    }\n",
       "\n",
       "    .dataframe thead th {\n",
       "        text-align: right;\n",
       "    }\n",
       "</style>\n",
       "<table border=\"1\" class=\"dataframe\">\n",
       "  <thead>\n",
       "    <tr style=\"text-align: right;\">\n",
       "      <th></th>\n",
       "      <th>review</th>\n",
       "      <th>sentiment</th>\n",
       "    </tr>\n",
       "  </thead>\n",
       "  <tbody>\n",
       "    <tr>\n",
       "      <th>0</th>\n",
       "      <td>One of the other reviewers has mentioned that ...</td>\n",
       "      <td>positive</td>\n",
       "    </tr>\n",
       "    <tr>\n",
       "      <th>1</th>\n",
       "      <td>A wonderful little production. &lt;br /&gt;&lt;br /&gt;The...</td>\n",
       "      <td>positive</td>\n",
       "    </tr>\n",
       "    <tr>\n",
       "      <th>2</th>\n",
       "      <td>I thought this was a wonderful way to spend ti...</td>\n",
       "      <td>positive</td>\n",
       "    </tr>\n",
       "    <tr>\n",
       "      <th>3</th>\n",
       "      <td>Basically there's a family where a little boy ...</td>\n",
       "      <td>negative</td>\n",
       "    </tr>\n",
       "    <tr>\n",
       "      <th>4</th>\n",
       "      <td>Petter Mattei's \"Love in the Time of Money\" is...</td>\n",
       "      <td>positive</td>\n",
       "    </tr>\n",
       "  </tbody>\n",
       "</table>\n",
       "</div>"
      ],
      "text/plain": [
       "                                              review sentiment\n",
       "0  One of the other reviewers has mentioned that ...  positive\n",
       "1  A wonderful little production. <br /><br />The...  positive\n",
       "2  I thought this was a wonderful way to spend ti...  positive\n",
       "3  Basically there's a family where a little boy ...  negative\n",
       "4  Petter Mattei's \"Love in the Time of Money\" is...  positive"
      ]
     },
     "execution_count": 3,
     "metadata": {},
     "output_type": "execute_result"
    }
   ],
   "source": [
    "# Load the dataset\n",
    "df = pd.read_csv('/kaggle/input/imdb-dataset-of-50k-movie-reviews/IMDB Dataset.csv')\n",
    "df.head()"
   ]
  },
  {
   "cell_type": "code",
   "execution_count": 4,
   "id": "6d02e50c",
   "metadata": {
    "execution": {
     "iopub.execute_input": "2025-06-02T18:58:43.636492Z",
     "iopub.status.busy": "2025-06-02T18:58:43.636203Z",
     "iopub.status.idle": "2025-06-02T18:58:43.682430Z",
     "shell.execute_reply": "2025-06-02T18:58:43.681355Z"
    },
    "papermill": {
     "duration": 0.059553,
     "end_time": "2025-06-02T18:58:43.683736",
     "exception": false,
     "start_time": "2025-06-02T18:58:43.624183",
     "status": "completed"
    },
    "tags": []
   },
   "outputs": [
    {
     "name": "stdout",
     "output_type": "stream",
     "text": [
      "<class 'pandas.core.frame.DataFrame'>\n",
      "RangeIndex: 50000 entries, 0 to 49999\n",
      "Data columns (total 2 columns):\n",
      " #   Column     Non-Null Count  Dtype \n",
      "---  ------     --------------  ----- \n",
      " 0   review     50000 non-null  object\n",
      " 1   sentiment  50000 non-null  object\n",
      "dtypes: object(2)\n",
      "memory usage: 781.4+ KB\n"
     ]
    }
   ],
   "source": [
    "df.info()"
   ]
  },
  {
   "cell_type": "code",
   "execution_count": 5,
   "id": "83bc2385",
   "metadata": {
    "execution": {
     "iopub.execute_input": "2025-06-02T18:58:43.711199Z",
     "iopub.status.busy": "2025-06-02T18:58:43.710643Z",
     "iopub.status.idle": "2025-06-02T18:58:43.788498Z",
     "shell.execute_reply": "2025-06-02T18:58:43.787738Z"
    },
    "papermill": {
     "duration": 0.093064,
     "end_time": "2025-06-02T18:58:43.789805",
     "exception": false,
     "start_time": "2025-06-02T18:58:43.696741",
     "status": "completed"
    },
    "tags": []
   },
   "outputs": [
    {
     "data": {
      "text/html": [
       "<div>\n",
       "<style scoped>\n",
       "    .dataframe tbody tr th:only-of-type {\n",
       "        vertical-align: middle;\n",
       "    }\n",
       "\n",
       "    .dataframe tbody tr th {\n",
       "        vertical-align: top;\n",
       "    }\n",
       "\n",
       "    .dataframe thead th {\n",
       "        text-align: right;\n",
       "    }\n",
       "</style>\n",
       "<table border=\"1\" class=\"dataframe\">\n",
       "  <thead>\n",
       "    <tr style=\"text-align: right;\">\n",
       "      <th></th>\n",
       "      <th>review</th>\n",
       "      <th>sentiment</th>\n",
       "    </tr>\n",
       "  </thead>\n",
       "  <tbody>\n",
       "    <tr>\n",
       "      <th>count</th>\n",
       "      <td>50000</td>\n",
       "      <td>50000</td>\n",
       "    </tr>\n",
       "    <tr>\n",
       "      <th>unique</th>\n",
       "      <td>49582</td>\n",
       "      <td>2</td>\n",
       "    </tr>\n",
       "    <tr>\n",
       "      <th>top</th>\n",
       "      <td>Loved today's show!!! It was a variety and not...</td>\n",
       "      <td>positive</td>\n",
       "    </tr>\n",
       "    <tr>\n",
       "      <th>freq</th>\n",
       "      <td>5</td>\n",
       "      <td>25000</td>\n",
       "    </tr>\n",
       "  </tbody>\n",
       "</table>\n",
       "</div>"
      ],
      "text/plain": [
       "                                                   review sentiment\n",
       "count                                               50000     50000\n",
       "unique                                              49582         2\n",
       "top     Loved today's show!!! It was a variety and not...  positive\n",
       "freq                                                    5     25000"
      ]
     },
     "execution_count": 5,
     "metadata": {},
     "output_type": "execute_result"
    }
   ],
   "source": [
    "df.describe()"
   ]
  },
  {
   "cell_type": "code",
   "execution_count": 6,
   "id": "e9433f1c",
   "metadata": {
    "execution": {
     "iopub.execute_input": "2025-06-02T18:58:43.816245Z",
     "iopub.status.busy": "2025-06-02T18:58:43.815951Z",
     "iopub.status.idle": "2025-06-02T18:58:43.831170Z",
     "shell.execute_reply": "2025-06-02T18:58:43.830565Z"
    },
    "papermill": {
     "duration": 0.029362,
     "end_time": "2025-06-02T18:58:43.832413",
     "exception": false,
     "start_time": "2025-06-02T18:58:43.803051",
     "status": "completed"
    },
    "tags": []
   },
   "outputs": [
    {
     "data": {
      "text/plain": [
       "review       0\n",
       "sentiment    0\n",
       "dtype: int64"
      ]
     },
     "execution_count": 6,
     "metadata": {},
     "output_type": "execute_result"
    }
   ],
   "source": [
    "df.isnull().sum()"
   ]
  },
  {
   "cell_type": "code",
   "execution_count": 7,
   "id": "d08fbc3a",
   "metadata": {
    "execution": {
     "iopub.execute_input": "2025-06-02T18:58:43.856554Z",
     "iopub.status.busy": "2025-06-02T18:58:43.856062Z",
     "iopub.status.idle": "2025-06-02T18:58:44.027991Z",
     "shell.execute_reply": "2025-06-02T18:58:44.027210Z"
    },
    "papermill": {
     "duration": 0.185013,
     "end_time": "2025-06-02T18:58:44.029327",
     "exception": false,
     "start_time": "2025-06-02T18:58:43.844314",
     "status": "completed"
    },
    "tags": []
   },
   "outputs": [
    {
     "data": {
      "text/plain": [
       "418"
      ]
     },
     "execution_count": 7,
     "metadata": {},
     "output_type": "execute_result"
    }
   ],
   "source": [
    "df.duplicated().sum()"
   ]
  },
  {
   "cell_type": "code",
   "execution_count": 8,
   "id": "d78f08e6",
   "metadata": {
    "execution": {
     "iopub.execute_input": "2025-06-02T18:58:44.056452Z",
     "iopub.status.busy": "2025-06-02T18:58:44.055704Z",
     "iopub.status.idle": "2025-06-02T18:58:44.222131Z",
     "shell.execute_reply": "2025-06-02T18:58:44.221440Z"
    },
    "papermill": {
     "duration": 0.18172,
     "end_time": "2025-06-02T18:58:44.223767",
     "exception": false,
     "start_time": "2025-06-02T18:58:44.042047",
     "status": "completed"
    },
    "tags": []
   },
   "outputs": [],
   "source": [
    "df.drop_duplicates(inplace=True)"
   ]
  },
  {
   "cell_type": "markdown",
   "id": "71c7d6f4",
   "metadata": {
    "papermill": {
     "duration": 0.011472,
     "end_time": "2025-06-02T18:58:44.247376",
     "exception": false,
     "start_time": "2025-06-02T18:58:44.235904",
     "status": "completed"
    },
    "tags": []
   },
   "source": [
    "***We notice that***\n",
    " * the data is balanced , have 50K rows 25K postive and 25K negative.\n",
    " * there no null values \n",
    " * there are some dublicates and drop them \n",
    " "
   ]
  },
  {
   "cell_type": "markdown",
   "id": "e7dc1711",
   "metadata": {
    "papermill": {
     "duration": 0.011169,
     "end_time": "2025-06-02T18:58:44.270093",
     "exception": false,
     "start_time": "2025-06-02T18:58:44.258924",
     "status": "completed"
    },
    "tags": []
   },
   "source": [
    "### ***Data Preprocessing***"
   ]
  },
  {
   "cell_type": "markdown",
   "id": "e776e29b",
   "metadata": {
    "papermill": {
     "duration": 0.011058,
     "end_time": "2025-06-02T18:58:44.292693",
     "exception": false,
     "start_time": "2025-06-02T18:58:44.281635",
     "status": "completed"
    },
    "tags": []
   },
   "source": [
    "####  ***Text Cleaning***\n",
    "  * remove some unuseful parts from text like links , html_tags ,extra space ,..."
   ]
  },
  {
   "cell_type": "code",
   "execution_count": 9,
   "id": "4724a9d3",
   "metadata": {
    "execution": {
     "iopub.execute_input": "2025-06-02T18:58:44.316798Z",
     "iopub.status.busy": "2025-06-02T18:58:44.316194Z",
     "iopub.status.idle": "2025-06-02T18:58:44.320877Z",
     "shell.execute_reply": "2025-06-02T18:58:44.320233Z"
    },
    "papermill": {
     "duration": 0.018008,
     "end_time": "2025-06-02T18:58:44.321960",
     "exception": false,
     "start_time": "2025-06-02T18:58:44.303952",
     "status": "completed"
    },
    "tags": []
   },
   "outputs": [],
   "source": [
    "\n",
    "def preprocess_cleaning(text):\n",
    "    # remove HTML tags\n",
    "    text = BeautifulSoup(text, \"html.parser\").get_text()\n",
    "    text = text.lower()\n",
    "    # remove URLs\n",
    "    text = re.sub(r'http\\S+|www\\S+|https\\S+', '', text, flags=re.MULTILINE)\n",
    "    # remove user mentions and hashtags\n",
    "    text = re.sub(r'@\\w+|\\#', '', text)\n",
    "    # remove punctuation\n",
    "    text = re.sub(r'[^\\w\\s]', '', text)\n",
    "    # remove extra spaces\n",
    "    text = re.sub(r'\\s+', ' ', text).strip()\n",
    "    return text"
   ]
  },
  {
   "cell_type": "markdown",
   "id": "b9f71d58",
   "metadata": {
    "papermill": {
     "duration": 0.011967,
     "end_time": "2025-06-02T18:58:44.345893",
     "exception": false,
     "start_time": "2025-06-02T18:58:44.333926",
     "status": "completed"
    },
    "tags": []
   },
   "source": [
    "#### ***Remove custom stopwords***\n",
    "  * keep the negative stop words as it has great influence in analysis such as \"like this\" , \"don't like this\" "
   ]
  },
  {
   "cell_type": "code",
   "execution_count": 10,
   "id": "7d49e969",
   "metadata": {
    "execution": {
     "iopub.execute_input": "2025-06-02T18:58:44.422805Z",
     "iopub.status.busy": "2025-06-02T18:58:44.422499Z",
     "iopub.status.idle": "2025-06-02T18:58:44.431152Z",
     "shell.execute_reply": "2025-06-02T18:58:44.430559Z"
    },
    "papermill": {
     "duration": 0.022878,
     "end_time": "2025-06-02T18:58:44.432468",
     "exception": false,
     "start_time": "2025-06-02T18:58:44.409590",
     "status": "completed"
    },
    "tags": []
   },
   "outputs": [],
   "source": [
    "stop_words = set(stopwords.words('english'))\n",
    "negatives = {\n",
    "    \"no\", \"not\", \"nor\", \"neither\", \"none\", \"never\", \"nobody\", \"nowhere\", \"nothing\",\n",
    "    \"don't\", \"doesn't\", \"didn't\", \"won't\", \"wouldn't\", \"can't\", \"couldn't\",\n",
    "    \"isn't\", \"aren't\", \"wasn't\", \"weren't\", \"haven't\", \"hasn't\", \"hadn't\",\n",
    "    \"shouldn't\", \"mustn't\", \"mightn't\", \"needn't\", 'don', 'won', 'aren', 'couldn',\n",
    "    'didn', 'doesn', 'hadn', 'hasn', 'haven', 'isn', 'mightn', 'mustn', 'needn', \n",
    "    'shan', 'shouldn', 'wasn', 'weren', 'wouldn'\n",
    "}\n",
    "custom_stop_words = stop_words - negatives\n",
    "\n",
    "def preprocess_stopwords(text):\n",
    "    # Tokenize\n",
    "    tokens = word_tokenize(text)\n",
    "    # remove custom stopwords\n",
    "    tokens = [word for word in tokens if word not in custom_stop_words]\n",
    "    # Return tokens as a string\n",
    "    return ' '.join(tokens)"
   ]
  },
  {
   "cell_type": "code",
   "execution_count": 11,
   "id": "0635db52",
   "metadata": {
    "execution": {
     "iopub.execute_input": "2025-06-02T18:58:44.458234Z",
     "iopub.status.busy": "2025-06-02T18:58:44.457919Z",
     "iopub.status.idle": "2025-06-02T18:59:27.410317Z",
     "shell.execute_reply": "2025-06-02T18:59:27.409440Z"
    },
    "papermill": {
     "duration": 42.966781,
     "end_time": "2025-06-02T18:59:27.411908",
     "exception": false,
     "start_time": "2025-06-02T18:58:44.445127",
     "status": "completed"
    },
    "tags": []
   },
   "outputs": [],
   "source": [
    "\n",
    "def preprocess_text(text):\n",
    "    text = preprocess_cleaning(text)\n",
    "    text = preprocess_stopwords(text)\n",
    "    return text\n",
    "\n",
    "# Apply preprocessing\n",
    "df['processed_text'] = df['review'].apply(preprocess_text)"
   ]
  },
  {
   "cell_type": "code",
   "execution_count": 12,
   "id": "8a9e530f",
   "metadata": {
    "execution": {
     "iopub.execute_input": "2025-06-02T18:59:27.435791Z",
     "iopub.status.busy": "2025-06-02T18:59:27.435542Z",
     "iopub.status.idle": "2025-06-02T18:59:27.442267Z",
     "shell.execute_reply": "2025-06-02T18:59:27.441342Z"
    },
    "papermill": {
     "duration": 0.019644,
     "end_time": "2025-06-02T18:59:27.443438",
     "exception": false,
     "start_time": "2025-06-02T18:59:27.423794",
     "status": "completed"
    },
    "tags": []
   },
   "outputs": [
    {
     "name": "stdout",
     "output_type": "stream",
     "text": [
      "data before preprocessing : 0        One of the other reviewers has mentioned that ...\n",
      "1        A wonderful little production. <br /><br />The...\n",
      "2        I thought this was a wonderful way to spend ti...\n",
      "3        Basically there's a family where a little boy ...\n",
      "4        Petter Mattei's \"Love in the Time of Money\" is...\n",
      "                               ...                        \n",
      "49995    I thought this movie did a down right good job...\n",
      "49996    Bad plot, bad dialogue, bad acting, idiotic di...\n",
      "49997    I am a Catholic taught in parochial elementary...\n",
      "49998    I'm going to have to disagree with the previou...\n",
      "49999    No one expects the Star Trek movies to be high...\n",
      "Name: review, Length: 49582, dtype: object\n",
      "data after preprocessing : 0        one reviewers mentioned watching 1 oz episode ...\n",
      "1        wonderful little production filming technique ...\n",
      "2        thought wonderful way spend time hot summer we...\n",
      "3        basically theres family little boy jake thinks...\n",
      "4        petter matteis love time money visually stunni...\n",
      "                               ...                        \n",
      "49995    thought movie right good job wasnt creative or...\n",
      "49996    bad plot bad dialogue bad acting idiotic direc...\n",
      "49997    catholic taught parochial elementary schools n...\n",
      "49998    im going disagree previous comment side maltin...\n",
      "49999    no one expects star trek movies high art fans ...\n",
      "Name: processed_text, Length: 49582, dtype: object\n"
     ]
    }
   ],
   "source": [
    "n = 1\n",
    "print(f\"data before preprocessing : {df['review']}\")\n",
    "print(f\"data after preprocessing : {df['processed_text']}\")\n"
   ]
  },
  {
   "cell_type": "markdown",
   "id": "57a0fb6e",
   "metadata": {
    "papermill": {
     "duration": 0.011067,
     "end_time": "2025-06-02T18:59:27.465659",
     "exception": false,
     "start_time": "2025-06-02T18:59:27.454592",
     "status": "completed"
    },
    "tags": []
   },
   "source": [
    "#### ***Split longer sentecnce***\n",
    "  * the transformer has maxmum length to take it above it will truncate sentece and this is not good so will split longer sentece in another df and use them later in tset using any techniqe such as average weighted"
   ]
  },
  {
   "cell_type": "code",
   "execution_count": 13,
   "id": "a290103a",
   "metadata": {
    "execution": {
     "iopub.execute_input": "2025-06-02T18:59:27.488787Z",
     "iopub.status.busy": "2025-06-02T18:59:27.488558Z",
     "iopub.status.idle": "2025-06-02T19:00:31.341792Z",
     "shell.execute_reply": "2025-06-02T19:00:31.340962Z"
    },
    "papermill": {
     "duration": 63.879073,
     "end_time": "2025-06-02T19:00:31.355827",
     "exception": false,
     "start_time": "2025-06-02T18:59:27.476754",
     "status": "completed"
    },
    "tags": []
   },
   "outputs": [
    {
     "data": {
      "application/vnd.jupyter.widget-view+json": {
       "model_id": "d0d2f89e64bf4cbab238ef13d3647aa0",
       "version_major": 2,
       "version_minor": 0
      },
      "text/plain": [
       "tokenizer_config.json:   0%|          | 0.00/25.0 [00:00<?, ?B/s]"
      ]
     },
     "metadata": {},
     "output_type": "display_data"
    },
    {
     "data": {
      "application/vnd.jupyter.widget-view+json": {
       "model_id": "bf34b0e3cc814bdb8c4ee89c6a702f74",
       "version_major": 2,
       "version_minor": 0
      },
      "text/plain": [
       "vocab.json:   0%|          | 0.00/899k [00:00<?, ?B/s]"
      ]
     },
     "metadata": {},
     "output_type": "display_data"
    },
    {
     "data": {
      "application/vnd.jupyter.widget-view+json": {
       "model_id": "097bc3b23e1a437387d684f07cdab4c2",
       "version_major": 2,
       "version_minor": 0
      },
      "text/plain": [
       "merges.txt:   0%|          | 0.00/456k [00:00<?, ?B/s]"
      ]
     },
     "metadata": {},
     "output_type": "display_data"
    },
    {
     "data": {
      "application/vnd.jupyter.widget-view+json": {
       "model_id": "238ec20b357d46b5a35207eb8ea506b9",
       "version_major": 2,
       "version_minor": 0
      },
      "text/plain": [
       "tokenizer.json:   0%|          | 0.00/1.36M [00:00<?, ?B/s]"
      ]
     },
     "metadata": {},
     "output_type": "display_data"
    },
    {
     "data": {
      "application/vnd.jupyter.widget-view+json": {
       "model_id": "58257282f93742da962df140e7402c91",
       "version_major": 2,
       "version_minor": 0
      },
      "text/plain": [
       "config.json:   0%|          | 0.00/481 [00:00<?, ?B/s]"
      ]
     },
     "metadata": {},
     "output_type": "display_data"
    },
    {
     "name": "stderr",
     "output_type": "stream",
     "text": [
      "Token indices sequence length is longer than the specified maximum sequence length for this model (605 > 512). Running this sequence through the model will result in indexing errors\n"
     ]
    },
    {
     "name": "stdout",
     "output_type": "stream",
     "text": [
      "valid reviews (≤ 512 tokens): 48521\n",
      "long reviews (> 512 tokens): 1061\n"
     ]
    }
   ],
   "source": [
    "tokenizer = RobertaTokenizer.from_pretrained(\"roberta-base\")\n",
    "max_length = 512\n",
    "\n",
    "valid_texts = []\n",
    "valid_labels = []\n",
    "long_texts = []\n",
    "long_labels = []\n",
    "\n",
    "for text, label in zip(df['processed_text'], df['sentiment']):\n",
    "    tokens = tokenizer.encode(text, add_special_tokens=True)\n",
    "    if len(tokens) <= max_length:\n",
    "        valid_texts.append(text)\n",
    "        valid_labels.append(label)\n",
    "    else:\n",
    "        long_texts.append(text)\n",
    "        long_labels.append(label)\n",
    "\n",
    "df = pd.DataFrame({'processed_text': valid_texts, 'sentiment': valid_labels})\n",
    "\n",
    "df_long = pd.DataFrame({'processed_text': long_texts, 'sentiment': long_labels})\n",
    "\n",
    "df_long.to_csv(\"long_texts.csv\", index=False)\n",
    "\n",
    "print(f\"valid reviews (≤ 512 tokens): {len(df)}\")\n",
    "print(f\"long reviews (> 512 tokens): {len(df_long)}\")\n"
   ]
  },
  {
   "cell_type": "code",
   "execution_count": 14,
   "id": "1d611daf",
   "metadata": {
    "execution": {
     "iopub.execute_input": "2025-06-02T19:00:31.381848Z",
     "iopub.status.busy": "2025-06-02T19:00:31.381200Z",
     "iopub.status.idle": "2025-06-02T19:00:32.322833Z",
     "shell.execute_reply": "2025-06-02T19:00:32.322039Z"
    },
    "papermill": {
     "duration": 0.955501,
     "end_time": "2025-06-02T19:00:32.324059",
     "exception": false,
     "start_time": "2025-06-02T19:00:31.368558",
     "status": "completed"
    },
    "tags": []
   },
   "outputs": [
    {
     "data": {
      "image/png": "[encoded data removed]",
      "text/plain": [
       "<Figure size 1000x600 with 1 Axes>"
      ]
     },
     "metadata": {},
     "output_type": "display_data"
    }
   ],
   "source": [
    "df['processed_length'] = df['processed_text'].apply(lambda x: len(str(x).split()))\n",
    "\n",
    "plt.figure(figsize=(10, 6))\n",
    "sns.kdeplot(df['processed_length'], color='blue', label='After Preprocessing', fill=True, alpha=0.2)\n",
    "\n",
    "plt.xlabel('Word Count')\n",
    "plt.ylabel('Density')\n",
    "plt.title('KDE of Word Count Before and After Preprocessing')\n",
    "plt.legend()\n",
    "plt.grid(True)\n",
    "plt.tight_layout()\n",
    "plt.show()\n"
   ]
  },
  {
   "cell_type": "code",
   "execution_count": 15,
   "id": "f52a00f1",
   "metadata": {
    "execution": {
     "iopub.execute_input": "2025-06-02T19:00:32.350708Z",
     "iopub.status.busy": "2025-06-02T19:00:32.350474Z",
     "iopub.status.idle": "2025-06-02T19:00:32.546445Z",
     "shell.execute_reply": "2025-06-02T19:00:32.545614Z"
    },
    "papermill": {
     "duration": 0.210194,
     "end_time": "2025-06-02T19:00:32.547663",
     "exception": false,
     "start_time": "2025-06-02T19:00:32.337469",
     "status": "completed"
    },
    "tags": []
   },
   "outputs": [
    {
     "data": {
      "image/png": "[encoded data removed]",
      "text/plain": [
       "<Figure size 1000x600 with 1 Axes>"
      ]
     },
     "metadata": {},
     "output_type": "display_data"
    }
   ],
   "source": [
    "count_label = df['sentiment'].value_counts()\n",
    "\n",
    "plt.figure(figsize=(10, 6))\n",
    "bars = count_label.plot(kind='bar', color=['#2ecc71', '#e74c3c'] )\n",
    "for i, v in enumerate(count_label):\n",
    "    plt.text(i, v + 500, str(v), ha='center', va='bottom')\n",
    "\n",
    "\n",
    "plt.title('Distribution of Sentiment Labels')\n",
    "plt.xlabel('Sentiment')\n",
    "plt.ylabel('Count')\n",
    "plt.xticks(rotation=0)\n",
    "plt.grid(axis='y', linestyle='-', alpha=0.3)\n",
    "plt.show()"
   ]
  },
  {
   "cell_type": "markdown",
   "id": "7ca74dad",
   "metadata": {
    "papermill": {
     "duration": 0.012567,
     "end_time": "2025-06-02T19:00:32.573707",
     "exception": false,
     "start_time": "2025-06-02T19:00:32.561140",
     "status": "completed"
    },
    "tags": []
   },
   "source": [
    "### ***Training***"
   ]
  },
  {
   "cell_type": "markdown",
   "id": "3ca62af7",
   "metadata": {
    "papermill": {
     "duration": 0.012578,
     "end_time": "2025-06-02T19:00:32.599087",
     "exception": false,
     "start_time": "2025-06-02T19:00:32.586509",
     "status": "completed"
    },
    "tags": []
   },
   "source": [
    "#### ***Split data***"
   ]
  },
  {
   "cell_type": "code",
   "execution_count": 16,
   "id": "c4a23663",
   "metadata": {
    "execution": {
     "iopub.execute_input": "2025-06-02T19:00:32.625846Z",
     "iopub.status.busy": "2025-06-02T19:00:32.625191Z",
     "iopub.status.idle": "2025-06-02T19:00:32.665604Z",
     "shell.execute_reply": "2025-06-02T19:00:32.664846Z"
    },
    "papermill": {
     "duration": 0.055103,
     "end_time": "2025-06-02T19:00:32.666778",
     "exception": false,
     "start_time": "2025-06-02T19:00:32.611675",
     "status": "completed"
    },
    "tags": []
   },
   "outputs": [
    {
     "name": "stdout",
     "output_type": "stream",
     "text": [
      "Training set size: 33964\n",
      "Validation set size: 10189\n",
      "Test set size: 4368\n"
     ]
    }
   ],
   "source": [
    "# Encoding label\n",
    "from sklearn.preprocessing import LabelEncoder\n",
    "\n",
    "label_encoder = LabelEncoder()\n",
    "df['sentiment'] = label_encoder.fit_transform(df['sentiment'])\n",
    "\n",
    "# Split data\n",
    "from sklearn.model_selection import train_test_split\n",
    "X_train, X_temp, y_train, y_temp = train_test_split(\n",
    "    df['processed_text'], df['sentiment'], test_size=0.3, random_state=42, stratify=df['sentiment']\n",
    ")\n",
    "# Split the temp data into test and validation\n",
    "X_val, X_test, y_val, y_test = train_test_split(\n",
    "    X_temp, y_temp, test_size=0.3, random_state=42, stratify=y_temp\n",
    ")\n",
    "\n",
    "print(f\"Training set size: {len(X_train)}\")\n",
    "print(f\"Validation set size: {len(X_val)}\")\n",
    "print(f\"Test set size: {len(X_test)}\")"
   ]
  },
  {
   "cell_type": "markdown",
   "id": "f6bf4ca9",
   "metadata": {
    "papermill": {
     "duration": 0.012709,
     "end_time": "2025-06-02T19:00:32.692734",
     "exception": false,
     "start_time": "2025-06-02T19:00:32.680025",
     "status": "completed"
    },
    "tags": []
   },
   "source": [
    "#### ***Tokeniztion & preparing data for transformer***"
   ]
  },
  {
   "cell_type": "code",
   "execution_count": 17,
   "id": "aa58a981",
   "metadata": {
    "execution": {
     "iopub.execute_input": "2025-06-02T19:00:32.718946Z",
     "iopub.status.busy": "2025-06-02T19:00:32.718570Z",
     "iopub.status.idle": "2025-06-02T19:01:41.939639Z",
     "shell.execute_reply": "2025-06-02T19:01:41.938900Z"
    },
    "papermill": {
     "duration": 69.23581,
     "end_time": "2025-06-02T19:01:41.941107",
     "exception": false,
     "start_time": "2025-06-02T19:00:32.705297",
     "status": "completed"
    },
    "tags": []
   },
   "outputs": [
    {
     "name": "stdout",
     "output_type": "stream",
     "text": [
      "Using device: cuda\n"
     ]
    },
    {
     "data": {
      "application/vnd.jupyter.widget-view+json": {
       "model_id": "4d72d6b3297a4a29b52bd9afd7050bfa",
       "version_major": 2,
       "version_minor": 0
      },
      "text/plain": [
       "model.safetensors:   0%|          | 0.00/499M [00:00<?, ?B/s]"
      ]
     },
     "metadata": {},
     "output_type": "display_data"
    },
    {
     "name": "stderr",
     "output_type": "stream",
     "text": [
      "Some weights of RobertaForSequenceClassification were not initialized from the model checkpoint at roberta-base and are newly initialized: ['classifier.dense.bias', 'classifier.dense.weight', 'classifier.out_proj.bias', 'classifier.out_proj.weight']\n",
      "You should probably TRAIN this model on a down-stream task to be able to use it for predictions and inference.\n"
     ]
    }
   ],
   "source": [
    "device = torch.device(\"cuda\" if torch.cuda.is_available() else \"cpu\")\n",
    "print(f\"Using device: {device}\")\n",
    "from transformers import RobertaConfig, RobertaTokenizer, RobertaForSequenceClassification\n",
    "\n",
    "model_name = \"roberta-base\"\n",
    "tokenizer = RobertaTokenizer.from_pretrained(model_name)\n",
    "config = RobertaConfig.from_pretrained(\n",
    "    model_name,\n",
    "    num_labels=2,\n",
    "    hidden_dropout_prob=0.3,\n",
    "    attention_probs_dropout_prob=0.3,\n",
    "    output_attentions=False,\n",
    "    output_hidden_states=False,\n",
    ")\n",
    "\n",
    "model = RobertaForSequenceClassification.from_pretrained(\n",
    "    model_name,\n",
    "    config=config\n",
    ")\n",
    "\n",
    "model.to(device)\n",
    "\n",
    "\n",
    "def tokenize_data(texts, labels, tokenizer, max_length=128):\n",
    "    input_ids = []\n",
    "    attention_masks = []\n",
    "    \n",
    "    for text in texts:\n",
    "        encoded_dict = tokenizer.encode_plus(\n",
    "            text,\n",
    "            add_special_tokens=True,\n",
    "            max_length=max_length,\n",
    "            padding='max_length',\n",
    "            truncation=True,\n",
    "            return_attention_mask=True,\n",
    "            return_tensors='pt',\n",
    "        )\n",
    "        \n",
    "        input_ids.append(encoded_dict['input_ids'])\n",
    "        attention_masks.append(encoded_dict['attention_mask'])\n",
    "    \n",
    "    input_ids = torch.cat(input_ids, dim=0)\n",
    "    attention_masks = torch.cat(attention_masks, dim=0)\n",
    "    labels = torch.tensor(labels.values, dtype=torch.long)\n",
    "    \n",
    "    return input_ids, attention_masks, labels\n",
    "\n",
    "train_inputs, train_masks, train_labels = tokenize_data(X_train, y_train, tokenizer)\n",
    "val_inputs, val_masks, val_labels = tokenize_data(X_val, y_val, tokenizer)\n",
    "test_inputs, test_masks, test_labels = tokenize_data(X_test, y_test, tokenizer)\n",
    "\n",
    "batch_size = 32\n",
    "\n",
    "train_data = TensorDataset(train_inputs, train_masks, train_labels)\n",
    "train_sampler = RandomSampler(train_data)\n",
    "train_dataloader = DataLoader(train_data, sampler=train_sampler, batch_size=batch_size)\n",
    "\n",
    "val_data = TensorDataset(val_inputs, val_masks, val_labels)\n",
    "val_sampler = SequentialSampler(val_data)\n",
    "val_dataloader = DataLoader(val_data, sampler=val_sampler, batch_size=batch_size)\n",
    "\n",
    "test_data = TensorDataset(test_inputs, test_masks, test_labels)\n",
    "test_sampler = SequentialSampler(test_data)\n",
    "test_dataloader = DataLoader(test_data, sampler=test_sampler, batch_size=batch_size)\n"
   ]
  },
  {
   "cell_type": "markdown",
   "id": "14bce03b",
   "metadata": {
    "papermill": {
     "duration": 0.013117,
     "end_time": "2025-06-02T19:01:41.968370",
     "exception": false,
     "start_time": "2025-06-02T19:01:41.955253",
     "status": "completed"
    },
    "tags": []
   },
   "source": [
    "#### ***Train***"
   ]
  },
  {
   "cell_type": "code",
   "execution_count": 18,
   "id": "13ba6fdc",
   "metadata": {
    "execution": {
     "iopub.execute_input": "2025-06-02T19:01:41.996922Z",
     "iopub.status.busy": "2025-06-02T19:01:41.996483Z",
     "iopub.status.idle": "2025-06-02T23:34:00.731670Z",
     "shell.execute_reply": "2025-06-02T23:34:00.730648Z"
    },
    "papermill": {
     "duration": 16338.75103,
     "end_time": "2025-06-02T23:34:00.732924",
     "exception": false,
     "start_time": "2025-06-02T19:01:41.981894",
     "status": "completed"
    },
    "tags": []
   },
   "outputs": [
    {
     "name": "stdout",
     "output_type": "stream",
     "text": [
      "\n",
      " Epoch 1 / 50 ===\n"
     ]
    },
    {
     "name": "stderr",
     "output_type": "stream",
     "text": [
      "100%|██████████| 1062/1062 [12:15<00:00,  1.44it/s]\n",
      "100%|██████████| 319/319 [01:09<00:00,  4.58it/s]\n"
     ]
    },
    {
     "name": "stdout",
     "output_type": "stream",
     "text": [
      "Epoch 01 | Train Acc: 0.5813 | Train Loss: 0.6504 |  Val Acc: 0.8508 | Val Loss: 0.3631\n",
      "New best val_accuracy: 0.8508 (improved from 0.0000)\n",
      "Best model saved to best_model.pt\n",
      "\n",
      " Epoch 2 / 50 ===\n"
     ]
    },
    {
     "name": "stderr",
     "output_type": "stream",
     "text": [
      "100%|██████████| 1062/1062 [12:27<00:00,  1.42it/s]\n",
      "100%|██████████| 319/319 [01:10<00:00,  4.54it/s]\n"
     ]
    },
    {
     "name": "stdout",
     "output_type": "stream",
     "text": [
      "Epoch 02 | Train Acc: 0.8366 | Train Loss: 0.3827 |  Val Acc: 0.8852 | Val Loss: 0.3137\n",
      "New best val_accuracy: 0.8852 (improved from 0.8508)\n",
      "Best model saved to best_model.pt\n",
      "\n",
      " Epoch 3 / 50 ===\n"
     ]
    },
    {
     "name": "stderr",
     "output_type": "stream",
     "text": [
      "100%|██████████| 1062/1062 [12:27<00:00,  1.42it/s]\n",
      "100%|██████████| 319/319 [01:09<00:00,  4.56it/s]\n"
     ]
    },
    {
     "name": "stdout",
     "output_type": "stream",
     "text": [
      "Epoch 03 | Train Acc: 0.8564 | Train Loss: 0.3334 |  Val Acc: 0.8943 | Val Loss: 0.2697\n",
      "New best val_accuracy: 0.8943 (improved from 0.8852)\n",
      "Best model saved to best_model.pt\n",
      "\n",
      " Epoch 4 / 50 ===\n"
     ]
    },
    {
     "name": "stderr",
     "output_type": "stream",
     "text": [
      "100%|██████████| 1062/1062 [12:28<00:00,  1.42it/s]\n",
      "100%|██████████| 319/319 [01:09<00:00,  4.58it/s]\n"
     ]
    },
    {
     "name": "stdout",
     "output_type": "stream",
     "text": [
      "Epoch 04 | Train Acc: 0.8706 | Train Loss: 0.3069 |  Val Acc: 0.8968 | Val Loss: 0.2941\n",
      "New best val_accuracy: 0.8968 (improved from 0.8943)\n",
      "Best model saved to best_model.pt\n",
      "\n",
      " Epoch 5 / 50 ===\n"
     ]
    },
    {
     "name": "stderr",
     "output_type": "stream",
     "text": [
      "100%|██████████| 1062/1062 [12:27<00:00,  1.42it/s]\n",
      "100%|██████████| 319/319 [01:10<00:00,  4.55it/s]\n"
     ]
    },
    {
     "name": "stdout",
     "output_type": "stream",
     "text": [
      "Epoch 05 | Train Acc: 0.8797 | Train Loss: 0.2901 |  Val Acc: 0.8957 | Val Loss: 0.2889\n",
      "No improvement in val_accuracy. (1/5)\n",
      "\n",
      " Epoch 6 / 50 ===\n"
     ]
    },
    {
     "name": "stderr",
     "output_type": "stream",
     "text": [
      "100%|██████████| 1062/1062 [12:27<00:00,  1.42it/s]\n",
      "100%|██████████| 319/319 [01:10<00:00,  4.55it/s]\n"
     ]
    },
    {
     "name": "stdout",
     "output_type": "stream",
     "text": [
      "Epoch 06 | Train Acc: 0.8858 | Train Loss: 0.2759 |  Val Acc: 0.9060 | Val Loss: 0.2530\n",
      "New best val_accuracy: 0.9060 (improved from 0.8968)\n",
      "Best model saved to best_model.pt\n",
      "\n",
      " Epoch 7 / 50 ===\n"
     ]
    },
    {
     "name": "stderr",
     "output_type": "stream",
     "text": [
      "100%|██████████| 1062/1062 [12:27<00:00,  1.42it/s]\n",
      "100%|██████████| 319/319 [01:09<00:00,  4.60it/s]\n"
     ]
    },
    {
     "name": "stdout",
     "output_type": "stream",
     "text": [
      "Epoch 07 | Train Acc: 0.8947 | Train Loss: 0.2597 |  Val Acc: 0.9107 | Val Loss: 0.2605\n",
      "New best val_accuracy: 0.9107 (improved from 0.9060)\n",
      "Best model saved to best_model.pt\n",
      "\n",
      " Epoch 8 / 50 ===\n"
     ]
    },
    {
     "name": "stderr",
     "output_type": "stream",
     "text": [
      "100%|██████████| 1062/1062 [12:23<00:00,  1.43it/s]\n",
      "100%|██████████| 319/319 [01:09<00:00,  4.59it/s]\n"
     ]
    },
    {
     "name": "stdout",
     "output_type": "stream",
     "text": [
      "Epoch 08 | Train Acc: 0.9020 | Train Loss: 0.2440 |  Val Acc: 0.9066 | Val Loss: 0.2741\n",
      "No improvement in val_accuracy. (1/5)\n",
      "\n",
      " Epoch 9 / 50 ===\n"
     ]
    },
    {
     "name": "stderr",
     "output_type": "stream",
     "text": [
      "100%|██████████| 1062/1062 [12:26<00:00,  1.42it/s]\n",
      "100%|██████████| 319/319 [01:10<00:00,  4.55it/s]\n"
     ]
    },
    {
     "name": "stdout",
     "output_type": "stream",
     "text": [
      "Epoch 09 | Train Acc: 0.9078 | Train Loss: 0.2309 |  Val Acc: 0.9117 | Val Loss: 0.2613\n",
      "New best val_accuracy: 0.9117 (improved from 0.9107)\n",
      "Best model saved to best_model.pt\n",
      "\n",
      " Epoch 10 / 50 ===\n"
     ]
    },
    {
     "name": "stderr",
     "output_type": "stream",
     "text": [
      "100%|██████████| 1062/1062 [12:27<00:00,  1.42it/s]\n",
      "100%|██████████| 319/319 [01:09<00:00,  4.57it/s]\n"
     ]
    },
    {
     "name": "stdout",
     "output_type": "stream",
     "text": [
      "Epoch 10 | Train Acc: 0.9139 | Train Loss: 0.2181 |  Val Acc: 0.9136 | Val Loss: 0.2671\n",
      "New best val_accuracy: 0.9136 (improved from 0.9117)\n",
      "Best model saved to best_model.pt\n",
      "\n",
      " Epoch 11 / 50 ===\n"
     ]
    },
    {
     "name": "stderr",
     "output_type": "stream",
     "text": [
      "100%|██████████| 1062/1062 [12:27<00:00,  1.42it/s]\n",
      "100%|██████████| 319/319 [01:09<00:00,  4.57it/s]\n"
     ]
    },
    {
     "name": "stdout",
     "output_type": "stream",
     "text": [
      "Epoch 11 | Train Acc: 0.9187 | Train Loss: 0.2087 |  Val Acc: 0.9152 | Val Loss: 0.3049\n",
      "New best val_accuracy: 0.9152 (improved from 0.9136)\n",
      "Best model saved to best_model.pt\n",
      "\n",
      " Epoch 12 / 50 ===\n"
     ]
    },
    {
     "name": "stderr",
     "output_type": "stream",
     "text": [
      "100%|██████████| 1062/1062 [12:26<00:00,  1.42it/s]\n",
      "100%|██████████| 319/319 [01:09<00:00,  4.57it/s]\n"
     ]
    },
    {
     "name": "stdout",
     "output_type": "stream",
     "text": [
      "Epoch 12 | Train Acc: 0.9222 | Train Loss: 0.2013 |  Val Acc: 0.9130 | Val Loss: 0.2896\n",
      "No improvement in val_accuracy. (1/5)\n",
      "\n",
      " Epoch 13 / 50 ===\n"
     ]
    },
    {
     "name": "stderr",
     "output_type": "stream",
     "text": [
      "100%|██████████| 1062/1062 [12:25<00:00,  1.42it/s]\n",
      "100%|██████████| 319/319 [01:09<00:00,  4.57it/s]\n"
     ]
    },
    {
     "name": "stdout",
     "output_type": "stream",
     "text": [
      "Epoch 13 | Train Acc: 0.9291 | Train Loss: 0.1894 |  Val Acc: 0.9160 | Val Loss: 0.2609\n",
      "New best val_accuracy: 0.9160 (improved from 0.9152)\n",
      "Best model saved to best_model.pt\n",
      "\n",
      " Epoch 14 / 50 ===\n"
     ]
    },
    {
     "name": "stderr",
     "output_type": "stream",
     "text": [
      "100%|██████████| 1062/1062 [12:26<00:00,  1.42it/s]\n",
      "100%|██████████| 319/319 [01:09<00:00,  4.59it/s]\n"
     ]
    },
    {
     "name": "stdout",
     "output_type": "stream",
     "text": [
      "Epoch 14 | Train Acc: 0.9301 | Train Loss: 0.1807 |  Val Acc: 0.9119 | Val Loss: 0.3061\n",
      "No improvement in val_accuracy. (1/5)\n",
      "\n",
      " Epoch 15 / 50 ===\n"
     ]
    },
    {
     "name": "stderr",
     "output_type": "stream",
     "text": [
      "100%|██████████| 1062/1062 [12:27<00:00,  1.42it/s]\n",
      "100%|██████████| 319/319 [01:09<00:00,  4.57it/s]\n"
     ]
    },
    {
     "name": "stdout",
     "output_type": "stream",
     "text": [
      "Epoch 15 | Train Acc: 0.9347 | Train Loss: 0.1723 |  Val Acc: 0.9171 | Val Loss: 0.2706\n",
      "New best val_accuracy: 0.9171 (improved from 0.9160)\n",
      "Best model saved to best_model.pt\n",
      "\n",
      " Epoch 16 / 50 ===\n"
     ]
    },
    {
     "name": "stderr",
     "output_type": "stream",
     "text": [
      "100%|██████████| 1062/1062 [12:27<00:00,  1.42it/s]\n",
      "100%|██████████| 319/319 [01:09<00:00,  4.56it/s]\n"
     ]
    },
    {
     "name": "stdout",
     "output_type": "stream",
     "text": [
      "Epoch 16 | Train Acc: 0.9395 | Train Loss: 0.1653 |  Val Acc: 0.9149 | Val Loss: 0.3244\n",
      "No improvement in val_accuracy. (1/5)\n",
      "\n",
      " Epoch 17 / 50 ===\n"
     ]
    },
    {
     "name": "stderr",
     "output_type": "stream",
     "text": [
      "100%|██████████| 1062/1062 [12:27<00:00,  1.42it/s]\n",
      "100%|██████████| 319/319 [01:10<00:00,  4.55it/s]\n"
     ]
    },
    {
     "name": "stdout",
     "output_type": "stream",
     "text": [
      "Epoch 17 | Train Acc: 0.9448 | Train Loss: 0.1535 |  Val Acc: 0.9141 | Val Loss: 0.2869\n",
      "No improvement in val_accuracy. (2/5)\n",
      "\n",
      " Epoch 18 / 50 ===\n"
     ]
    },
    {
     "name": "stderr",
     "output_type": "stream",
     "text": [
      "100%|██████████| 1062/1062 [12:26<00:00,  1.42it/s]\n",
      "100%|██████████| 319/319 [01:09<00:00,  4.57it/s]\n"
     ]
    },
    {
     "name": "stdout",
     "output_type": "stream",
     "text": [
      "Epoch 18 | Train Acc: 0.9473 | Train Loss: 0.1470 |  Val Acc: 0.9133 | Val Loss: 0.3452\n",
      "No improvement in val_accuracy. (3/5)\n",
      "\n",
      " Epoch 19 / 50 ===\n"
     ]
    },
    {
     "name": "stderr",
     "output_type": "stream",
     "text": [
      "100%|██████████| 1062/1062 [12:27<00:00,  1.42it/s]\n",
      "100%|██████████| 319/319 [01:09<00:00,  4.59it/s]\n"
     ]
    },
    {
     "name": "stdout",
     "output_type": "stream",
     "text": [
      "Epoch 19 | Train Acc: 0.9497 | Train Loss: 0.1408 |  Val Acc: 0.9170 | Val Loss: 0.3022\n",
      "No improvement in val_accuracy. (4/5)\n",
      "\n",
      " Epoch 20 / 50 ===\n"
     ]
    },
    {
     "name": "stderr",
     "output_type": "stream",
     "text": [
      "100%|██████████| 1062/1062 [12:27<00:00,  1.42it/s]\n",
      "100%|██████████| 319/319 [01:09<00:00,  4.56it/s]"
     ]
    },
    {
     "name": "stdout",
     "output_type": "stream",
     "text": [
      "Epoch 20 | Train Acc: 0.9521 | Train Loss: 0.1341 |  Val Acc: 0.9143 | Val Loss: 0.3437\n",
      "No improvement in val_accuracy. (5/5)\n",
      "Early stopping triggered after 5 epochs without improvement.\n",
      "Training was stopped early due to no improvement in validation loss.\n"
     ]
    },
    {
     "name": "stderr",
     "output_type": "stream",
     "text": [
      "\n"
     ]
    }
   ],
   "source": [
    "#  Optimizer , Scheduler\n",
    "epochs = 50\n",
    "optimizer = AdamW(model.parameters(), lr=1e-5, eps=1e-8, weight_decay=0.01)\n",
    "total_steps = len(train_dataloader) * epochs\n",
    "num_warmup_steps = int(0.1 * total_steps)\n",
    "scheduler = get_cosine_schedule_with_warmup(optimizer, num_warmup_steps, total_steps)\n",
    "\n",
    "# Training Function with Early Stopping\n",
    "def train_model(model, train_dataloader, val_dataloader, epochs, optimizer, scheduler, device, save_path=\"best_model.pt\"):\n",
    "    best_val_acc = 0\n",
    "    training_stats = []\n",
    "    best_weights = None\n",
    "    early_stop_patience = 5\n",
    "    epochs_no_improve = 0\n",
    "    early_stopped = False\n",
    "\n",
    "    for epoch in range(epochs):\n",
    "        print(f\"\\n Epoch {epoch + 1} / {epochs} ===\")\n",
    "\n",
    "        model.train()\n",
    "        total_train_loss = 0\n",
    "        train_preds = []\n",
    "        train_labels = []\n",
    "\n",
    "        for batch in tqdm(train_dataloader):\n",
    "            b_input_ids = batch[0].to(device)\n",
    "            b_input_mask = batch[1].to(device)\n",
    "            b_labels = batch[2].to(device)\n",
    "\n",
    "            model.zero_grad()\n",
    "            outputs = model(\n",
    "                b_input_ids,\n",
    "                attention_mask=b_input_mask,\n",
    "                labels=b_labels\n",
    "            )\n",
    "\n",
    "            loss = outputs.loss\n",
    "            logits = outputs.logits\n",
    "            total_train_loss += loss.item()\n",
    "\n",
    "            preds = torch.argmax(logits, dim=1).detach().cpu().numpy()\n",
    "            labels = b_labels.detach().cpu().numpy()\n",
    "            train_preds.extend(preds)\n",
    "            train_labels.extend(labels)\n",
    "\n",
    "            loss.backward()\n",
    "            torch.nn.utils.clip_grad_norm_(model.parameters(), 1.0)\n",
    "            optimizer.step()\n",
    "            scheduler.step()\n",
    "\n",
    "        avg_train_loss = total_train_loss / len(train_dataloader)\n",
    "        train_accuracy = accuracy_score(train_labels, train_preds)\n",
    "\n",
    "        # Validation\n",
    "        model.eval()\n",
    "        total_val_loss = 0\n",
    "        all_preds = []\n",
    "        all_labels = []\n",
    "\n",
    "        for batch in tqdm(val_dataloader):\n",
    "            b_input_ids = batch[0].to(device)\n",
    "            b_input_mask = batch[1].to(device)\n",
    "            b_labels = batch[2].to(device)\n",
    "\n",
    "            with torch.no_grad():\n",
    "                outputs = model(\n",
    "                    b_input_ids,\n",
    "                    attention_mask=b_input_mask,\n",
    "                    labels=b_labels\n",
    "                )\n",
    "\n",
    "            loss = outputs.loss\n",
    "            logits = outputs.logits\n",
    "\n",
    "            total_val_loss += loss.item()\n",
    "            preds = torch.argmax(logits, dim=1).cpu().numpy()\n",
    "            labels = b_labels.cpu().numpy()\n",
    "            all_preds.extend(preds)\n",
    "            all_labels.extend(labels)\n",
    "\n",
    "        avg_val_loss = total_val_loss / len(val_dataloader)\n",
    "        val_accuracy = accuracy_score(all_labels, all_preds)\n",
    "\n",
    "        print(f\"Epoch {epoch+1:02} | Train Acc: {train_accuracy:.4f} | Train Loss: {avg_train_loss:.4f} |  Val Acc: {val_accuracy:.4f} | Val Loss: {avg_val_loss:.4f}\")\n",
    "\n",
    "        # Early Stopping\n",
    "        if val_accuracy > best_val_acc:\n",
    "            print(f\"New best val_accuracy: {val_accuracy:.4f} (improved from {best_val_acc:.4f})\")\n",
    "            best_val_acc = val_accuracy\n",
    "            best_weights = model.state_dict()\n",
    "            torch.save(best_weights, save_path)\n",
    "            print(f\"Best model saved to {save_path}\")\n",
    "            epochs_no_improve = 0\n",
    "        else:\n",
    "            epochs_no_improve += 1\n",
    "            print(f\"No improvement in val_accuracy. ({epochs_no_improve}/{early_stop_patience})\")\n",
    "            if epochs_no_improve >= early_stop_patience:\n",
    "                print(f\"Early stopping triggered after {early_stop_patience} epochs without improvement.\")\n",
    "                early_stopped = True\n",
    "                break\n",
    "\n",
    "        training_stats.append({\n",
    "            'epoch': epoch + 1,\n",
    "            'train_loss': avg_train_loss,\n",
    "            'train_accuracy': train_accuracy,\n",
    "            'val_loss': avg_val_loss,\n",
    "            'val_accuracy': val_accuracy\n",
    "        })\n",
    "\n",
    "    if early_stopped:\n",
    "        print(\"Training was stopped early due to no improvement in validation loss.\")\n",
    "\n",
    "    return training_stats\n",
    "\n",
    "training_stats = train_model(\n",
    "    model,\n",
    "    train_dataloader,\n",
    "    val_dataloader,\n",
    "    epochs=epochs,\n",
    "    optimizer=optimizer,\n",
    "    scheduler=scheduler,\n",
    "    device=device\n",
    ")\n"
   ]
  },
  {
   "cell_type": "markdown",
   "id": "4198a177",
   "metadata": {
    "papermill": {
     "duration": 1.18097,
     "end_time": "2025-06-02T23:34:03.007021",
     "exception": false,
     "start_time": "2025-06-02T23:34:01.826051",
     "status": "completed"
    },
    "tags": []
   },
   "source": [
    "### ***Evalution***"
   ]
  },
  {
   "cell_type": "markdown",
   "id": "d10bc4ac",
   "metadata": {
    "papermill": {
     "duration": 1.085044,
     "end_time": "2025-06-02T23:34:05.283757",
     "exception": false,
     "start_time": "2025-06-02T23:34:04.198713",
     "status": "completed"
    },
    "tags": []
   },
   "source": [
    "#### ***Learning Curve***"
   ]
  },
  {
   "cell_type": "code",
   "execution_count": 19,
   "id": "6d06b757",
   "metadata": {
    "execution": {
     "iopub.execute_input": "2025-06-02T23:34:07.736598Z",
     "iopub.status.busy": "2025-06-02T23:34:07.736122Z",
     "iopub.status.idle": "2025-06-02T23:34:07.957962Z",
     "shell.execute_reply": "2025-06-02T23:34:07.957316Z"
    },
    "papermill": {
     "duration": 1.464573,
     "end_time": "2025-06-02T23:34:07.959212",
     "exception": false,
     "start_time": "2025-06-02T23:34:06.494639",
     "status": "completed"
    },
    "tags": []
   },
   "outputs": [
    {
     "data": {
      "image/png": "[encoded data removed]",
      "text/plain": [
       "<Figure size 800x600 with 1 Axes>"
      ]
     },
     "metadata": {},
     "output_type": "display_data"
    }
   ],
   "source": [
    "# Plot Training & Validation Accuracy\n",
    "import matplotlib.pyplot as plt\n",
    "\n",
    "train_acc = [stat['train_accuracy'] for stat in training_stats]\n",
    "val_acc = [stat['val_accuracy'] for stat in training_stats]\n",
    "epochs_range = [stat['epoch'] for stat in training_stats]\n",
    "\n",
    "plt.figure(figsize=(8, 6))\n",
    "plt.plot(epochs_range, train_acc, label='Training Accuracy')\n",
    "plt.plot(epochs_range, val_acc, label='Validation Accuracy')\n",
    "plt.xlabel('Epoch')\n",
    "plt.ylabel('Accuracy')\n",
    "plt.title('Training vs Validation Accuracy')\n",
    "plt.legend()\n",
    "plt.grid(True)\n",
    "plt.tight_layout()\n",
    "plt.show()\n"
   ]
  },
  {
   "cell_type": "code",
   "execution_count": 20,
   "id": "7f5afe5b",
   "metadata": {
    "execution": {
     "iopub.execute_input": "2025-06-02T23:34:10.237587Z",
     "iopub.status.busy": "2025-06-02T23:34:10.236903Z",
     "iopub.status.idle": "2025-06-02T23:34:10.397491Z",
     "shell.execute_reply": "2025-06-02T23:34:10.396733Z"
    },
    "papermill": {
     "duration": 1.344525,
     "end_time": "2025-06-02T23:34:10.398545",
     "exception": false,
     "start_time": "2025-06-02T23:34:09.054020",
     "status": "completed"
    },
    "tags": []
   },
   "outputs": [
    {
     "data": {
      "image/png": "[encoded data removed]",
      "text/plain": [
       "<Figure size 640x480 with 1 Axes>"
      ]
     },
     "metadata": {},
     "output_type": "display_data"
    }
   ],
   "source": [
    "# Example: Plotting training and validation loss\n",
    "import matplotlib.pyplot as plt\n",
    "\n",
    "train_loss = [stat['train_loss'] for stat in training_stats]\n",
    "val_loss = [stat['val_loss'] for stat in training_stats]\n",
    "epochs_range = [stat['epoch'] for stat in training_stats]\n",
    "\n",
    "plt.plot(epochs_range, train_loss, label='Training Loss')\n",
    "plt.plot(epochs_range, val_loss, label='Validation Loss')\n",
    "plt.xlabel('Epoch')\n",
    "plt.ylabel('Loss')\n",
    "plt.legend()\n",
    "plt.title('Loss over Epochs')\n",
    "plt.show()\n"
   ]
  },
  {
   "cell_type": "markdown",
   "id": "102a6f86",
   "metadata": {
    "papermill": {
     "duration": 1.083507,
     "end_time": "2025-06-02T23:34:12.671343",
     "exception": false,
     "start_time": "2025-06-02T23:34:11.587836",
     "status": "completed"
    },
    "tags": []
   },
   "source": [
    "#### ***Classificatio Report***"
   ]
  },
  {
   "cell_type": "code",
   "execution_count": 21,
   "id": "45834579",
   "metadata": {
    "execution": {
     "iopub.execute_input": "2025-06-02T23:34:15.124056Z",
     "iopub.status.busy": "2025-06-02T23:34:15.123260Z",
     "iopub.status.idle": "2025-06-02T23:34:45.607894Z",
     "shell.execute_reply": "2025-06-02T23:34:45.607157Z"
    },
    "papermill": {
     "duration": 32.571983,
     "end_time": "2025-06-02T23:34:46.428452",
     "exception": false,
     "start_time": "2025-06-02T23:34:13.856469",
     "status": "completed"
    },
    "tags": []
   },
   "outputs": [
    {
     "name": "stderr",
     "output_type": "stream",
     "text": [
      "100%|██████████| 137/137 [00:30<00:00,  4.50it/s]"
     ]
    },
    {
     "name": "stdout",
     "output_type": "stream",
     "text": [
      "\n",
      "Classification Report:\n",
      "              precision    recall  f1-score   support\n",
      "\n",
      "           0     0.9123    0.9198    0.9161      2183\n",
      "           1     0.9192    0.9117    0.9154      2185\n",
      "\n",
      "    accuracy                         0.9158      4368\n",
      "   macro avg     0.9158    0.9158    0.9157      4368\n",
      "weighted avg     0.9158    0.9158    0.9157      4368\n",
      "\n",
      "Confusion Matrix:\n",
      "[[2008  175]\n",
      " [ 193 1992]]\n"
     ]
    },
    {
     "name": "stderr",
     "output_type": "stream",
     "text": [
      "\n"
     ]
    }
   ],
   "source": [
    "\n",
    "def evaluate_test_set(model, test_dataloader, device):\n",
    "    model.eval()\n",
    "    all_preds = []\n",
    "    all_labels = []\n",
    "\n",
    "    for batch in tqdm(test_dataloader):\n",
    "        b_input_ids = batch[0].to(device)\n",
    "        b_input_mask = batch[1].to(device)\n",
    "        b_labels = batch[2].to(device)\n",
    "\n",
    "        with torch.no_grad():\n",
    "            outputs = model(\n",
    "                b_input_ids,\n",
    "                token_type_ids=None,\n",
    "                attention_mask=b_input_mask\n",
    "            )\n",
    "\n",
    "        logits = outputs.logits\n",
    "        preds = torch.argmax(logits, dim=1).detach().cpu().numpy()\n",
    "        labels = b_labels.detach().cpu().numpy()\n",
    "\n",
    "        all_preds.extend(preds)\n",
    "        all_labels.extend(labels)\n",
    "\n",
    "    accuracy = accuracy_score(all_labels, all_preds)\n",
    "    precision = precision_score(all_labels, all_preds, average='binary')\n",
    "    recall = recall_score(all_labels, all_preds, average='binary')\n",
    "    f1 = f1_score(all_labels, all_preds, average='binary')\n",
    "    cm = confusion_matrix(all_labels, all_preds)\n",
    "    report = classification_report(all_labels, all_preds, digits=4)\n",
    "\n",
    "    print(\"\\nClassification Report:\")\n",
    "    print(report)\n",
    "\n",
    "    print(\"Confusion Matrix:\")\n",
    "    print(cm)\n",
    "    \n",
    "\n",
    "    return accuracy, precision, recall, f1 ,all_labels ,all_preds\n",
    "\n",
    "\n",
    "acc ,precision ,recall ,f1 ,labels ,preds=  evaluate_test_set(model, test_dataloader, device)\n"
   ]
  },
  {
   "cell_type": "markdown",
   "id": "3d8b1534",
   "metadata": {
    "papermill": {
     "duration": 1.193892,
     "end_time": "2025-06-02T23:34:48.872560",
     "exception": false,
     "start_time": "2025-06-02T23:34:47.678668",
     "status": "completed"
    },
    "tags": []
   },
   "source": [
    "#### ***Confusion Matrix***"
   ]
  },
  {
   "cell_type": "code",
   "execution_count": 22,
   "id": "0a9d5ff5",
   "metadata": {
    "execution": {
     "iopub.execute_input": "2025-06-02T23:34:51.147296Z",
     "iopub.status.busy": "2025-06-02T23:34:51.147001Z",
     "iopub.status.idle": "2025-06-02T23:34:51.384986Z",
     "shell.execute_reply": "2025-06-02T23:34:51.384305Z"
    },
    "papermill": {
     "duration": 1.430154,
     "end_time": "2025-06-02T23:34:51.386295",
     "exception": false,
     "start_time": "2025-06-02T23:34:49.956141",
     "status": "completed"
    },
    "tags": []
   },
   "outputs": [
    {
     "data": {
      "image/png": "[encoded data removed]",
      "text/plain": [
       "<Figure size 600x500 with 2 Axes>"
      ]
     },
     "metadata": {},
     "output_type": "display_data"
    }
   ],
   "source": [
    "cm = confusion_matrix(labels, preds)\n",
    "plt.figure(figsize=(6, 5))\n",
    "sns.heatmap(cm, annot=True, fmt='d', cmap='Blues',\n",
    "            xticklabels=['Negative',  'Positive'],\n",
    "            yticklabels=['Negative',  'Positive'])\n",
    "plt.xlabel('Predicted Label')\n",
    "plt.ylabel('True Label')\n",
    "plt.title('Confusion Matrix Heatmap')\n",
    "plt.savefig(\"confusion_matrix_heatmap.png\")\n",
    "plt.show()"
   ]
  },
  {
   "cell_type": "markdown",
   "id": "cd9a26a9",
   "metadata": {
    "papermill": {
     "duration": 1.175608,
     "end_time": "2025-06-02T23:34:53.656656",
     "exception": false,
     "start_time": "2025-06-02T23:34:52.481048",
     "status": "completed"
    },
    "tags": []
   },
   "source": [
    "#### ***Text Example***"
   ]
  },
  {
   "cell_type": "code",
   "execution_count": 23,
   "id": "3b41c101",
   "metadata": {
    "execution": {
     "iopub.execute_input": "2025-06-02T23:34:55.934842Z",
     "iopub.status.busy": "2025-06-02T23:34:55.934549Z",
     "iopub.status.idle": "2025-06-02T23:34:56.132382Z",
     "shell.execute_reply": "2025-06-02T23:34:56.131691Z"
    },
    "papermill": {
     "duration": 1.281615,
     "end_time": "2025-06-02T23:34:56.133485",
     "exception": false,
     "start_time": "2025-06-02T23:34:54.851870",
     "status": "completed"
    },
    "tags": []
   },
   "outputs": [
    {
     "name": "stdout",
     "output_type": "stream",
     "text": [
      "Text: I absolutely love this product! It's amazing!\n",
      "Sentiment: positive\n",
      "\n",
      "Text: This is the worst experience I've ever had.\n",
      "Sentiment: Negative\n",
      "\n"
     ]
    }
   ],
   "source": [
    "def predict_sentiment(text, model, tokenizer, device):\n",
    "    # Preprocess the text\n",
    "    processed_text = preprocess_text(text)\n",
    "    \n",
    "    # Tokenize\n",
    "    encoded_dict = tokenizer.encode_plus(\n",
    "            text,\n",
    "            add_special_tokens=True,\n",
    "            max_length=max_length,\n",
    "            padding='max_length',\n",
    "            truncation=True,\n",
    "            return_attention_mask=True,\n",
    "            return_tensors='pt',\n",
    "        )\n",
    "    \n",
    "    # Move to device\n",
    "    input_ids = encoded_dict['input_ids'].to(device)\n",
    "    attention_mask = encoded_dict['attention_mask'].to(device)\n",
    "    \n",
    "    # Set model to evaluation mode\n",
    "    model.eval()\n",
    "    \n",
    "    # Get prediction\n",
    "    with torch.no_grad():\n",
    "        outputs = model(input_ids, attention_mask=attention_mask)\n",
    "        logits = outputs.logits\n",
    "    \n",
    "    # Get prediction class\n",
    "    prediction = torch.argmax(logits, dim=1).item()\n",
    "    \n",
    "    # Map prediction to sentiment\n",
    "    sentiment_map = {0: 'Negative', 1: 'positive'}\n",
    "    sentiment = sentiment_map[prediction]\n",
    "    \n",
    "    return sentiment\n",
    "\n",
    "# Example usage\n",
    "sample_texts = [\n",
    "    \"I absolutely love this product! It's amazing!\",\n",
    "    \"This is the worst experience I've ever had.\"\n",
    "]\n",
    "\n",
    "for text in sample_texts:\n",
    "    sentiment = predict_sentiment(text, model, tokenizer, device)\n",
    "    print(f\"Text: {text}\")\n",
    "    print(f\"Sentiment: {sentiment}\\n\")"
   ]
  },
  {
   "cell_type": "markdown",
   "id": "016bb0cc",
   "metadata": {
    "papermill": {
     "duration": 1.182059,
     "end_time": "2025-06-02T23:34:58.513511",
     "exception": false,
     "start_time": "2025-06-02T23:34:57.331452",
     "status": "completed"
    },
    "tags": []
   },
   "source": [
    "#### ***Save model***"
   ]
  },
  {
   "cell_type": "code",
   "execution_count": 24,
   "id": "e09a42da",
   "metadata": {
    "execution": {
     "iopub.execute_input": "2025-06-02T23:35:00.798849Z",
     "iopub.status.busy": "2025-06-02T23:35:00.798255Z",
     "iopub.status.idle": "2025-06-02T23:35:02.011915Z",
     "shell.execute_reply": "2025-06-02T23:35:02.011029Z"
    },
    "papermill": {
     "duration": 2.412237,
     "end_time": "2025-06-02T23:35:02.013274",
     "exception": false,
     "start_time": "2025-06-02T23:34:59.601037",
     "status": "completed"
    },
    "tags": []
   },
   "outputs": [
    {
     "name": "stdout",
     "output_type": "stream",
     "text": [
      "Model and tokenizer saved to roberta_model_ft\n"
     ]
    }
   ],
   "source": [
    "# Thư mục để lưu mô hình\n",
    "save_directory = \"roberta_model_ft\"\n",
    "os.makedirs(save_directory, exist_ok=True)\n",
    "\n",
    "# Save model weights, config, and tokenizer\n",
    "model.save_pretrained(save_directory)\n",
    "tokenizer.save_pretrained(save_directory)\n",
    "\n",
    "print(f\"Model and tokenizer saved to {save_directory}\")"
   ]
  },
  {
   "cell_type": "code",
   "execution_count": 25,
   "id": "7ef1ec2a",
   "metadata": {
    "execution": {
     "iopub.execute_input": "2025-06-02T23:35:04.311367Z",
     "iopub.status.busy": "2025-06-02T23:35:04.310663Z",
     "iopub.status.idle": "2025-06-02T23:35:33.852949Z",
     "shell.execute_reply": "2025-06-02T23:35:33.852278Z"
    },
    "papermill": {
     "duration": 30.641433,
     "end_time": "2025-06-02T23:35:33.854087",
     "exception": false,
     "start_time": "2025-06-02T23:35:03.212654",
     "status": "completed"
    },
    "tags": []
   },
   "outputs": [
    {
     "data": {
      "text/plain": [
       "'/kaggle/working/roberta_model.zip'"
      ]
     },
     "execution_count": 25,
     "metadata": {},
     "output_type": "execute_result"
    }
   ],
   "source": [
    "import shutil\n",
    "shutil.make_archive(\"roberta_model\", 'zip', \"roberta_model_ft\")"
   ]
  }
 ],
 "metadata": {
  "kaggle": {
   "accelerator": "nvidiaTeslaT4",
   "dataSources": [
    {
     "datasetId": 134715,
     "sourceId": 320111,
     "sourceType": "datasetVersion"
    }
   ],
   "dockerImageVersionId": 31040,
   "isGpuEnabled": true,
   "isInternetEnabled": true,
   "language": "python",
   "sourceType": "notebook"
  },
  "kernelspec": {
   "display_name": "Python 3",
   "language": "python",
   "name": "python3"
  },
  "language_info": {
   "codemirror_mode": {
    "name": "ipython",
    "version": 3
   },
   "file_extension": ".py",
   "mimetype": "text/x-python",
   "name": "python",
   "nbconvert_exporter": "python",
   "pygments_lexer": "ipython3",
   "version": "3.11.11"
  },
  "papermill": {
   "default_parameters": {},
   "duration": 16671.364818,
   "end_time": "2025-06-02T23:35:38.157913",
   "environment_variables": {},
   "exception": null,
   "input_path": "__notebook__.ipynb",
   "output_path": "__notebook__.ipynb",
   "parameters": {},
   "start_time": "2025-06-02T18:57:46.793095",
   "version": "2.6.0"
  },
  "widgets": {
   "application/vnd.jupyter.widget-state+json": {
    "state": {
     "01523d38b2404353a52ddab8ffa41157": {
      "model_module": "@jupyter-widgets/base",
      "model_module_version": "2.0.0",
      "model_name": "LayoutModel",
      "state": {
       "_model_module": "@jupyter-widgets/base",
       "_model_module_version": "2.0.0",
       "_model_name": "LayoutModel",
       "_view_count": null,
       "_view_module": "@jupyter-widgets/base",
       "_view_module_version": "2.0.0",
       "_view_name": "LayoutView",
       "align_content": null,
       "align_items": null,
       "align_self": null,
       "border_bottom": null,
       "border_left": null,
       "border_right": null,
       "border_top": null,
       "bottom": null,
       "display": null,
       "flex": null,
       "flex_flow": null,
       "grid_area": null,
       "grid_auto_columns": null,
       "grid_auto_flow": null,
       "grid_auto_rows": null,
       "grid_column": null,
       "grid_gap": null,
       "grid_row": null,
       "grid_template_areas": null,
       "grid_template_columns": null,
       "grid_template_rows": null,
       "height": null,
       "justify_content": null,
       "justify_items": null,
       "left": null,
       "margin": null,
       "max_height": null,
       "max_width": null,
       "min_height": null,
       "min_width": null,
       "object_fit": null,
       "object_position": null,
       "order": null,
       "overflow": null,
       "padding": null,
       "right": null,
       "top": null,
       "visibility": null,
       "width": null
      }
     },
     "01c7170a55e346a197cf01b5c099c555": {
      "model_module": "@jupyter-widgets/controls",
      "model_module_version": "2.0.0",
      "model_name": "HTMLStyleModel",
      "state": {
       "_model_module": "@jupyter-widgets/controls",
       "_model_module_version": "2.0.0",
       "_model_name": "HTMLStyleModel",
       "_view_count": null,
       "_view_module": "@jupyter-widgets/base",
       "_view_module_version": "2.0.0",
       "_view_name": "StyleView",
       "background": null,
       "description_width": "",
       "font_size": null,
       "text_color": null
      }
     },
     "0365dceabc7c47df9ba7b6effdc3d78c": {
      "model_module": "@jupyter-widgets/controls",
      "model_module_version": "2.0.0",
      "model_name": "HTMLStyleModel",
      "state": {
       "_model_module": "@jupyter-widgets/controls",
       "_model_module_version": "2.0.0",
       "_model_name": "HTMLStyleModel",
       "_view_count": null,
       "_view_module": "@jupyter-widgets/base",
       "_view_module_version": "2.0.0",
       "_view_name": "StyleView",
       "background": null,
       "description_width": "",
       "font_size": null,
       "text_color": null
      }
     },
     "0385f8c2ed8f4754b22b083a345a19ad": {
      "model_module": "@jupyter-widgets/base",
      "model_module_version": "2.0.0",
      "model_name": "LayoutModel",
      "state": {
       "_model_module": "@jupyter-widgets/base",
       "_model_module_version": "2.0.0",
       "_model_name": "LayoutModel",
       "_view_count": null,
       "_view_module": "@jupyter-widgets/base",
       "_view_module_version": "2.0.0",
       "_view_name": "LayoutView",
       "align_content": null,
       "align_items": null,
       "align_self": null,
       "border_bottom": null,
       "border_left": null,
       "border_right": null,
       "border_top": null,
       "bottom": null,
       "display": null,
       "flex": null,
       "flex_flow": null,
       "grid_area": null,
       "grid_auto_columns": null,
       "grid_auto_flow": null,
       "grid_auto_rows": null,
       "grid_column": null,
       "grid_gap": null,
       "grid_row": null,
       "grid_template_areas": null,
       "grid_template_columns": null,
       "grid_template_rows": null,
       "height": null,
       "justify_content": null,
       "justify_items": null,
       "left": null,
       "margin": null,
       "max_height": null,
       "max_width": null,
       "min_height": null,
       "min_width": null,
       "object_fit": null,
       "object_position": null,
       "order": null,
       "overflow": null,
       "padding": null,
       "right": null,
       "top": null,
       "visibility": null,
       "width": null
      }
     },
     "097bc3b23e1a437387d684f07cdab4c2": {
      "model_module": "@jupyter-widgets/controls",
      "model_module_version": "2.0.0",
      "model_name": "HBoxModel",
      "state": {
       "_dom_classes": [],
       "_model_module": "@jupyter-widgets/controls",
       "_model_module_version": "2.0.0",
       "_model_name": "HBoxModel",
       "_view_count": null,
       "_view_module": "@jupyter-widgets/controls",
       "_view_module_version": "2.0.0",
       "_view_name": "HBoxView",
       "box_style": "",
       "children": [
        "IPY_MODEL_24e31c253d4f4af28eed6b41b4c68169",
        "IPY_MODEL_ba623540babd4d678c8c6d09848bd98f",
        "IPY_MODEL_c45980f09aa84a43a58beec5c7b5701a"
       ],
       "layout": "IPY_MODEL_e388a8598f824af7b59f25f34d8fa938",
       "tabbable": null,
       "tooltip": null
      }
     },
     "1446647f33d24a3d91cbf1a405023d8e": {
      "model_module": "@jupyter-widgets/controls",
      "model_module_version": "2.0.0",
      "model_name": "HTMLModel",
      "state": {
       "_dom_classes": [],
       "_model_module": "@jupyter-widgets/controls",
       "_model_module_version": "2.0.0",
       "_model_name": "HTMLModel",
       "_view_count": null,
       "_view_module": "@jupyter-widgets/controls",
       "_view_module_version": "2.0.0",
       "_view_name": "HTMLView",
       "description": "",
       "description_allow_html": false,
       "layout": "IPY_MODEL_a9fb697c8c204159b5886a9909bcd374",
       "placeholder": "​",
       "style": "IPY_MODEL_01c7170a55e346a197cf01b5c099c555",
       "tabbable": null,
       "tooltip": null,
       "value": " 481/481 [00:00&lt;00:00, 49.9kB/s]"
      }
     },
     "1800e49129b04dbd973cab4130f2b9f1": {
      "model_module": "@jupyter-widgets/base",
      "model_module_version": "2.0.0",
      "model_name": "LayoutModel",
      "state": {
       "_model_module": "@jupyter-widgets/base",
       "_model_module_version": "2.0.0",
       "_model_name": "LayoutModel",
       "_view_count": null,
       "_view_module": "@jupyter-widgets/base",
       "_view_module_version": "2.0.0",
       "_view_name": "LayoutView",
       "align_content": null,
       "align_items": null,
       "align_self": null,
       "border_bottom": null,
       "border_left": null,
       "border_right": null,
       "border_top": null,
       "bottom": null,
       "display": null,
       "flex": null,
       "flex_flow": null,
       "grid_area": null,
       "grid_auto_columns": null,
       "grid_auto_flow": null,
       "grid_auto_rows": null,
       "grid_column": null,
       "grid_gap": null,
       "grid_row": null,
       "grid_template_areas": null,
       "grid_template_columns": null,
       "grid_template_rows": null,
       "height": null,
       "justify_content": null,
       "justify_items": null,
       "left": null,
       "margin": null,
       "max_height": null,
       "max_width": null,
       "min_height": null,
       "min_width": null,
       "object_fit": null,
       "object_position": null,
       "order": null,
       "overflow": null,
       "padding": null,
       "right": null,
       "top": null,
       "visibility": null,
       "width": null
      }
     },
     "1a351542bb8e40469e125e53276e3df2": {
      "model_module": "@jupyter-widgets/base",
      "model_module_version": "2.0.0",
      "model_name": "LayoutModel",
      "state": {
       "_model_module": "@jupyter-widgets/base",
       "_model_module_version": "2.0.0",
       "_model_name": "LayoutModel",
       "_view_count": null,
       "_view_module": "@jupyter-widgets/base",
       "_view_module_version": "2.0.0",
       "_view_name": "LayoutView",
       "align_content": null,
       "align_items": null,
       "align_self": null,
       "border_bottom": null,
       "border_left": null,
       "border_right": null,
       "border_top": null,
       "bottom": null,
       "display": null,
       "flex": null,
       "flex_flow": null,
       "grid_area": null,
       "grid_auto_columns": null,
       "grid_auto_flow": null,
       "grid_auto_rows": null,
       "grid_column": null,
       "grid_gap": null,
       "grid_row": null,
       "grid_template_areas": null,
       "grid_template_columns": null,
       "grid_template_rows": null,
       "height": null,
       "justify_content": null,
       "justify_items": null,
       "left": null,
       "margin": null,
       "max_height": null,
       "max_width": null,
       "min_height": null,
       "min_width": null,
       "object_fit": null,
       "object_position": null,
       "order": null,
       "overflow": null,
       "padding": null,
       "right": null,
       "top": null,
       "visibility": null,
       "width": null
      }
     },
     "1adc0fc666354a4e8268c54a9196b799": {
      "model_module": "@jupyter-widgets/base",
      "model_module_version": "2.0.0",
      "model_name": "LayoutModel",
      "state": {
       "_model_module": "@jupyter-widgets/base",
       "_model_module_version": "2.0.0",
       "_model_name": "LayoutModel",
       "_view_count": null,
       "_view_module": "@jupyter-widgets/base",
       "_view_module_version": "2.0.0",
       "_view_name": "LayoutView",
       "align_content": null,
       "align_items": null,
       "align_self": null,
       "border_bottom": null,
       "border_left": null,
       "border_right": null,
       "border_top": null,
       "bottom": null,
       "display": null,
       "flex": null,
       "flex_flow": null,
       "grid_area": null,
       "grid_auto_columns": null,
       "grid_auto_flow": null,
       "grid_auto_rows": null,
       "grid_column": null,
       "grid_gap": null,
       "grid_row": null,
       "grid_template_areas": null,
       "grid_template_columns": null,
       "grid_template_rows": null,
       "height": null,
       "justify_content": null,
       "justify_items": null,
       "left": null,
       "margin": null,
       "max_height": null,
       "max_width": null,
       "min_height": null,
       "min_width": null,
       "object_fit": null,
       "object_position": null,
       "order": null,
       "overflow": null,
       "padding": null,
       "right": null,
       "top": null,
       "visibility": null,
       "width": null
      }
     },
     "1b6ef9ab96c246ca8bf1888170518bf8": {
      "model_module": "@jupyter-widgets/base",
      "model_module_version": "2.0.0",
      "model_name": "LayoutModel",
      "state": {
       "_model_module": "@jupyter-widgets/base",
       "_model_module_version": "2.0.0",
       "_model_name": "LayoutModel",
       "_view_count": null,
       "_view_module": "@jupyter-widgets/base",
       "_view_module_version": "2.0.0",
       "_view_name": "LayoutView",
       "align_content": null,
       "align_items": null,
       "align_self": null,
       "border_bottom": null,
       "border_left": null,
       "border_right": null,
       "border_top": null,
       "bottom": null,
       "display": null,
       "flex": null,
       "flex_flow": null,
       "grid_area": null,
       "grid_auto_columns": null,
       "grid_auto_flow": null,
       "grid_auto_rows": null,
       "grid_column": null,
       "grid_gap": null,
       "grid_row": null,
       "grid_template_areas": null,
       "grid_template_columns": null,
       "grid_template_rows": null,
       "height": null,
       "justify_content": null,
       "justify_items": null,
       "left": null,
       "margin": null,
       "max_height": null,
       "max_width": null,
       "min_height": null,
       "min_width": null,
       "object_fit": null,
       "object_position": null,
       "order": null,
       "overflow": null,
       "padding": null,
       "right": null,
       "top": null,
       "visibility": null,
       "width": null
      }
     },
     "1c29f11911b648008a85752e9c0da95c": {
      "model_module": "@jupyter-widgets/controls",
      "model_module_version": "2.0.0",
      "model_name": "ProgressStyleModel",
      "state": {
       "_model_module": "@jupyter-widgets/controls",
       "_model_module_version": "2.0.0",
       "_model_name": "ProgressStyleModel",
       "_view_count": null,
       "_view_module": "@jupyter-widgets/base",
       "_view_module_version": "2.0.0",
       "_view_name": "StyleView",
       "bar_color": null,
       "description_width": ""
      }
     },
     "21e9ce4af1d2455daceef1123f558663": {
      "model_module": "@jupyter-widgets/base",
      "model_module_version": "2.0.0",
      "model_name": "LayoutModel",
      "state": {
       "_model_module": "@jupyter-widgets/base",
       "_model_module_version": "2.0.0",
       "_model_name": "LayoutModel",
       "_view_count": null,
       "_view_module": "@jupyter-widgets/base",
       "_view_module_version": "2.0.0",
       "_view_name": "LayoutView",
       "align_content": null,
       "align_items": null,
       "align_self": null,
       "border_bottom": null,
       "border_left": null,
       "border_right": null,
       "border_top": null,
       "bottom": null,
       "display": null,
       "flex": null,
       "flex_flow": null,
       "grid_area": null,
       "grid_auto_columns": null,
       "grid_auto_flow": null,
       "grid_auto_rows": null,
       "grid_column": null,
       "grid_gap": null,
       "grid_row": null,
       "grid_template_areas": null,
       "grid_template_columns": null,
       "grid_template_rows": null,
       "height": null,
       "justify_content": null,
       "justify_items": null,
       "left": null,
       "margin": null,
       "max_height": null,
       "max_width": null,
       "min_height": null,
       "min_width": null,
       "object_fit": null,
       "object_position": null,
       "order": null,
       "overflow": null,
       "padding": null,
       "right": null,
       "top": null,
       "visibility": null,
       "width": null
      }
     },
     "238ec20b357d46b5a35207eb8ea506b9": {
      "model_module": "@jupyter-widgets/controls",
      "model_module_version": "2.0.0",
      "model_name": "HBoxModel",
      "state": {
       "_dom_classes": [],
       "_model_module": "@jupyter-widgets/controls",
       "_model_module_version": "2.0.0",
       "_model_name": "HBoxModel",
       "_view_count": null,
       "_view_module": "@jupyter-widgets/controls",
       "_view_module_version": "2.0.0",
       "_view_name": "HBoxView",
       "box_style": "",
       "children": [
        "IPY_MODEL_34930950bc24426cab6e3b8059249f6f",
        "IPY_MODEL_8e908171fd784a8fb7121c0628edaee8",
        "IPY_MODEL_23d6153ed4784120a2e653dc7e44f67a"
       ],
       "layout": "IPY_MODEL_9d91fc965d854bd09f2500c64b3c7ae5",
       "tabbable": null,
       "tooltip": null
      }
     },
     "23d6153ed4784120a2e653dc7e44f67a": {
      "model_module": "@jupyter-widgets/controls",
      "model_module_version": "2.0.0",
      "model_name": "HTMLModel",
      "state": {
       "_dom_classes": [],
       "_model_module": "@jupyter-widgets/controls",
       "_model_module_version": "2.0.0",
       "_model_name": "HTMLModel",
       "_view_count": null,
       "_view_module": "@jupyter-widgets/controls",
       "_view_module_version": "2.0.0",
       "_view_name": "HTMLView",
       "description": "",
       "description_allow_html": false,
       "layout": "IPY_MODEL_64595a1a2497483da7b00581f23104a3",
       "placeholder": "​",
       "style": "IPY_MODEL_81ab4427cdf64b848783424e4d604543",
       "tabbable": null,
       "tooltip": null,
       "value": " 1.36M/1.36M [00:00&lt;00:00, 8.54MB/s]"
      }
     },
     "24e31c253d4f4af28eed6b41b4c68169": {
      "model_module": "@jupyter-widgets/controls",
      "model_module_version": "2.0.0",
      "model_name": "HTMLModel",
      "state": {
       "_dom_classes": [],
       "_model_module": "@jupyter-widgets/controls",
       "_model_module_version": "2.0.0",
       "_model_name": "HTMLModel",
       "_view_count": null,
       "_view_module": "@jupyter-widgets/controls",
       "_view_module_version": "2.0.0",
       "_view_name": "HTMLView",
       "description": "",
       "description_allow_html": false,
       "layout": "IPY_MODEL_ee56c0e51c454df6a51e1eb9a37532ac",
       "placeholder": "​",
       "style": "IPY_MODEL_0365dceabc7c47df9ba7b6effdc3d78c",
       "tabbable": null,
       "tooltip": null,
       "value": "merges.txt: 100%"
      }
     },
     "25ab95cb76724f1284369c002c69df71": {
      "model_module": "@jupyter-widgets/controls",
      "model_module_version": "2.0.0",
      "model_name": "HTMLModel",
      "state": {
       "_dom_classes": [],
       "_model_module": "@jupyter-widgets/controls",
       "_model_module_version": "2.0.0",
       "_model_name": "HTMLModel",
       "_view_count": null,
       "_view_module": "@jupyter-widgets/controls",
       "_view_module_version": "2.0.0",
       "_view_name": "HTMLView",
       "description": "",
       "description_allow_html": false,
       "layout": "IPY_MODEL_1b6ef9ab96c246ca8bf1888170518bf8",
       "placeholder": "​",
       "style": "IPY_MODEL_f4dd40bc452f4bfc8271c0f471544a41",
       "tabbable": null,
       "tooltip": null,
       "value": "vocab.json: 100%"
      }
     },
     "295339e475234fb68c51a16137cd88e9": {
      "model_module": "@jupyter-widgets/controls",
      "model_module_version": "2.0.0",
      "model_name": "HTMLStyleModel",
      "state": {
       "_model_module": "@jupyter-widgets/controls",
       "_model_module_version": "2.0.0",
       "_model_name": "HTMLStyleModel",
       "_view_count": null,
       "_view_module": "@jupyter-widgets/base",
       "_view_module_version": "2.0.0",
       "_view_name": "StyleView",
       "background": null,
       "description_width": "",
       "font_size": null,
       "text_color": null
      }
     },
     "2d28f38b49a14714bfc4423ebdccb69d": {
      "model_module": "@jupyter-widgets/controls",
      "model_module_version": "2.0.0",
      "model_name": "FloatProgressModel",
      "state": {
       "_dom_classes": [],
       "_model_module": "@jupyter-widgets/controls",
       "_model_module_version": "2.0.0",
       "_model_name": "FloatProgressModel",
       "_view_count": null,
       "_view_module": "@jupyter-widgets/controls",
       "_view_module_version": "2.0.0",
       "_view_name": "ProgressView",
       "bar_style": "success",
       "description": "",
       "description_allow_html": false,
       "layout": "IPY_MODEL_30440e82bc2e4e9a86c226f9f159d132",
       "max": 481.0,
       "min": 0.0,
       "orientation": "horizontal",
       "style": "IPY_MODEL_bfc5133752144df39e59376e3d291758",
       "tabbable": null,
       "tooltip": null,
       "value": 481.0
      }
     },
     "2e74974f3a6b4d188f80b4de4ae3a3bc": {
      "model_module": "@jupyter-widgets/controls",
      "model_module_version": "2.0.0",
      "model_name": "HTMLStyleModel",
      "state": {
       "_model_module": "@jupyter-widgets/controls",
       "_model_module_version": "2.0.0",
       "_model_name": "HTMLStyleModel",
       "_view_count": null,
       "_view_module": "@jupyter-widgets/base",
       "_view_module_version": "2.0.0",
       "_view_name": "StyleView",
       "background": null,
       "description_width": "",
       "font_size": null,
       "text_color": null
      }
     },
     "30440e82bc2e4e9a86c226f9f159d132": {
      "model_module": "@jupyter-widgets/base",
      "model_module_version": "2.0.0",
      "model_name": "LayoutModel",
      "state": {
       "_model_module": "@jupyter-widgets/base",
       "_model_module_version": "2.0.0",
       "_model_name": "LayoutModel",
       "_view_count": null,
       "_view_module": "@jupyter-widgets/base",
       "_view_module_version": "2.0.0",
       "_view_name": "LayoutView",
       "align_content": null,
       "align_items": null,
       "align_self": null,
       "border_bottom": null,
       "border_left": null,
       "border_right": null,
       "border_top": null,
       "bottom": null,
       "display": null,
       "flex": null,
       "flex_flow": null,
       "grid_area": null,
       "grid_auto_columns": null,
       "grid_auto_flow": null,
       "grid_auto_rows": null,
       "grid_column": null,
       "grid_gap": null,
       "grid_row": null,
       "grid_template_areas": null,
       "grid_template_columns": null,
       "grid_template_rows": null,
       "height": null,
       "justify_content": null,
       "justify_items": null,
       "left": null,
       "margin": null,
       "max_height": null,
       "max_width": null,
       "min_height": null,
       "min_width": null,
       "object_fit": null,
       "object_position": null,
       "order": null,
       "overflow": null,
       "padding": null,
       "right": null,
       "top": null,
       "visibility": null,
       "width": null
      }
     },
     "349100e989994f1a833c7f8911bc2efd": {
      "model_module": "@jupyter-widgets/base",
      "model_module_version": "2.0.0",
      "model_name": "LayoutModel",
      "state": {
       "_model_module": "@jupyter-widgets/base",
       "_model_module_version": "2.0.0",
       "_model_name": "LayoutModel",
       "_view_count": null,
       "_view_module": "@jupyter-widgets/base",
       "_view_module_version": "2.0.0",
       "_view_name": "LayoutView",
       "align_content": null,
       "align_items": null,
       "align_self": null,
       "border_bottom": null,
       "border_left": null,
       "border_right": null,
       "border_top": null,
       "bottom": null,
       "display": null,
       "flex": null,
       "flex_flow": null,
       "grid_area": null,
       "grid_auto_columns": null,
       "grid_auto_flow": null,
       "grid_auto_rows": null,
       "grid_column": null,
       "grid_gap": null,
       "grid_row": null,
       "grid_template_areas": null,
       "grid_template_columns": null,
       "grid_template_rows": null,
       "height": null,
       "justify_content": null,
       "justify_items": null,
       "left": null,
       "margin": null,
       "max_height": null,
       "max_width": null,
       "min_height": null,
       "min_width": null,
       "object_fit": null,
       "object_position": null,
       "order": null,
       "overflow": null,
       "padding": null,
       "right": null,
       "top": null,
       "visibility": null,
       "width": null
      }
     },
     "34930950bc24426cab6e3b8059249f6f": {
      "model_module": "@jupyter-widgets/controls",
      "model_module_version": "2.0.0",
      "model_name": "HTMLModel",
      "state": {
       "_dom_classes": [],
       "_model_module": "@jupyter-widgets/controls",
       "_model_module_version": "2.0.0",
       "_model_name": "HTMLModel",
       "_view_count": null,
       "_view_module": "@jupyter-widgets/controls",
       "_view_module_version": "2.0.0",
       "_view_name": "HTMLView",
       "description": "",
       "description_allow_html": false,
       "layout": "IPY_MODEL_973cf64a621d46888415c0410868c84f",
       "placeholder": "​",
       "style": "IPY_MODEL_2e74974f3a6b4d188f80b4de4ae3a3bc",
       "tabbable": null,
       "tooltip": null,
       "value": "tokenizer.json: 100%"
      }
     },
     "379f3ec30d96469bb8025b17ea0baf83": {
      "model_module": "@jupyter-widgets/controls",
      "model_module_version": "2.0.0",
      "model_name": "HTMLStyleModel",
      "state": {
       "_model_module": "@jupyter-widgets/controls",
       "_model_module_version": "2.0.0",
       "_model_name": "HTMLStyleModel",
       "_view_count": null,
       "_view_module": "@jupyter-widgets/base",
       "_view_module_version": "2.0.0",
       "_view_name": "StyleView",
       "background": null,
       "description_width": "",
       "font_size": null,
       "text_color": null
      }
     },
     "40d311683c78407599b9f9aeabdf1bf5": {
      "model_module": "@jupyter-widgets/base",
      "model_module_version": "2.0.0",
      "model_name": "LayoutModel",
      "state": {
       "_model_module": "@jupyter-widgets/base",
       "_model_module_version": "2.0.0",
       "_model_name": "LayoutModel",
       "_view_count": null,
       "_view_module": "@jupyter-widgets/base",
       "_view_module_version": "2.0.0",
       "_view_name": "LayoutView",
       "align_content": null,
       "align_items": null,
       "align_self": null,
       "border_bottom": null,
       "border_left": null,
       "border_right": null,
       "border_top": null,
       "bottom": null,
       "display": null,
       "flex": null,
       "flex_flow": null,
       "grid_area": null,
       "grid_auto_columns": null,
       "grid_auto_flow": null,
       "grid_auto_rows": null,
       "grid_column": null,
       "grid_gap": null,
       "grid_row": null,
       "grid_template_areas": null,
       "grid_template_columns": null,
       "grid_template_rows": null,
       "height": null,
       "justify_content": null,
       "justify_items": null,
       "left": null,
       "margin": null,
       "max_height": null,
       "max_width": null,
       "min_height": null,
       "min_width": null,
       "object_fit": null,
       "object_position": null,
       "order": null,
       "overflow": null,
       "padding": null,
       "right": null,
       "top": null,
       "visibility": null,
       "width": null
      }
     },
     "4772b7b3048d41eba107f74ada46cb04": {
      "model_module": "@jupyter-widgets/base",
      "model_module_version": "2.0.0",
      "model_name": "LayoutModel",
      "state": {
       "_model_module": "@jupyter-widgets/base",
       "_model_module_version": "2.0.0",
       "_model_name": "LayoutModel",
       "_view_count": null,
       "_view_module": "@jupyter-widgets/base",
       "_view_module_version": "2.0.0",
       "_view_name": "LayoutView",
       "align_content": null,
       "align_items": null,
       "align_self": null,
       "border_bottom": null,
       "border_left": null,
       "border_right": null,
       "border_top": null,
       "bottom": null,
       "display": null,
       "flex": null,
       "flex_flow": null,
       "grid_area": null,
       "grid_auto_columns": null,
       "grid_auto_flow": null,
       "grid_auto_rows": null,
       "grid_column": null,
       "grid_gap": null,
       "grid_row": null,
       "grid_template_areas": null,
       "grid_template_columns": null,
       "grid_template_rows": null,
       "height": null,
       "justify_content": null,
       "justify_items": null,
       "left": null,
       "margin": null,
       "max_height": null,
       "max_width": null,
       "min_height": null,
       "min_width": null,
       "object_fit": null,
       "object_position": null,
       "order": null,
       "overflow": null,
       "padding": null,
       "right": null,
       "top": null,
       "visibility": null,
       "width": null
      }
     },
     "4ac85ee38fdd48acbd33d6573c28a6e9": {
      "model_module": "@jupyter-widgets/controls",
      "model_module_version": "2.0.0",
      "model_name": "HTMLModel",
      "state": {
       "_dom_classes": [],
       "_model_module": "@jupyter-widgets/controls",
       "_model_module_version": "2.0.0",
       "_model_name": "HTMLModel",
       "_view_count": null,
       "_view_module": "@jupyter-widgets/controls",
       "_view_module_version": "2.0.0",
       "_view_name": "HTMLView",
       "description": "",
       "description_allow_html": false,
       "layout": "IPY_MODEL_a6114110aa09412fb46ff6ab1a7e1484",
       "placeholder": "​",
       "style": "IPY_MODEL_9ce5d8e817c24715b46b682987ba7753",
       "tabbable": null,
       "tooltip": null,
       "value": " 499M/499M [00:04&lt;00:00, 192MB/s]"
      }
     },
     "4d72d6b3297a4a29b52bd9afd7050bfa": {
      "model_module": "@jupyter-widgets/controls",
      "model_module_version": "2.0.0",
      "model_name": "HBoxModel",
      "state": {
       "_dom_classes": [],
       "_model_module": "@jupyter-widgets/controls",
       "_model_module_version": "2.0.0",
       "_model_name": "HBoxModel",
       "_view_count": null,
       "_view_module": "@jupyter-widgets/controls",
       "_view_module_version": "2.0.0",
       "_view_name": "HBoxView",
       "box_style": "",
       "children": [
        "IPY_MODEL_62f2a78dc23345a0983e643f56ae8cf8",
        "IPY_MODEL_e84c5519cbc74ab98da693bd9c9835ae",
        "IPY_MODEL_4ac85ee38fdd48acbd33d6573c28a6e9"
       ],
       "layout": "IPY_MODEL_9c26b1f51d6940c1b9c00fc1532712b7",
       "tabbable": null,
       "tooltip": null
      }
     },
     "570b0cf3158e4c38bb91f06e425cc06c": {
      "model_module": "@jupyter-widgets/base",
      "model_module_version": "2.0.0",
      "model_name": "LayoutModel",
      "state": {
       "_model_module": "@jupyter-widgets/base",
       "_model_module_version": "2.0.0",
       "_model_name": "LayoutModel",
       "_view_count": null,
       "_view_module": "@jupyter-widgets/base",
       "_view_module_version": "2.0.0",
       "_view_name": "LayoutView",
       "align_content": null,
       "align_items": null,
       "align_self": null,
       "border_bottom": null,
       "border_left": null,
       "border_right": null,
       "border_top": null,
       "bottom": null,
       "display": null,
       "flex": null,
       "flex_flow": null,
       "grid_area": null,
       "grid_auto_columns": null,
       "grid_auto_flow": null,
       "grid_auto_rows": null,
       "grid_column": null,
       "grid_gap": null,
       "grid_row": null,
       "grid_template_areas": null,
       "grid_template_columns": null,
       "grid_template_rows": null,
       "height": null,
       "justify_content": null,
       "justify_items": null,
       "left": null,
       "margin": null,
       "max_height": null,
       "max_width": null,
       "min_height": null,
       "min_width": null,
       "object_fit": null,
       "object_position": null,
       "order": null,
       "overflow": null,
       "padding": null,
       "right": null,
       "top": null,
       "visibility": null,
       "width": null
      }
     },
     "57b0eda0b27840ebb83ca33380a65903": {
      "model_module": "@jupyter-widgets/base",
      "model_module_version": "2.0.0",
      "model_name": "LayoutModel",
      "state": {
       "_model_module": "@jupyter-widgets/base",
       "_model_module_version": "2.0.0",
       "_model_name": "LayoutModel",
       "_view_count": null,
       "_view_module": "@jupyter-widgets/base",
       "_view_module_version": "2.0.0",
       "_view_name": "LayoutView",
       "align_content": null,
       "align_items": null,
       "align_self": null,
       "border_bottom": null,
       "border_left": null,
       "border_right": null,
       "border_top": null,
       "bottom": null,
       "display": null,
       "flex": null,
       "flex_flow": null,
       "grid_area": null,
       "grid_auto_columns": null,
       "grid_auto_flow": null,
       "grid_auto_rows": null,
       "grid_column": null,
       "grid_gap": null,
       "grid_row": null,
       "grid_template_areas": null,
       "grid_template_columns": null,
       "grid_template_rows": null,
       "height": null,
       "justify_content": null,
       "justify_items": null,
       "left": null,
       "margin": null,
       "max_height": null,
       "max_width": null,
       "min_height": null,
       "min_width": null,
       "object_fit": null,
       "object_position": null,
       "order": null,
       "overflow": null,
       "padding": null,
       "right": null,
       "top": null,
       "visibility": null,
       "width": null
      }
     },
     "58257282f93742da962df140e7402c91": {
      "model_module": "@jupyter-widgets/controls",
      "model_module_version": "2.0.0",
      "model_name": "HBoxModel",
      "state": {
       "_dom_classes": [],
       "_model_module": "@jupyter-widgets/controls",
       "_model_module_version": "2.0.0",
       "_model_name": "HBoxModel",
       "_view_count": null,
       "_view_module": "@jupyter-widgets/controls",
       "_view_module_version": "2.0.0",
       "_view_name": "HBoxView",
       "box_style": "",
       "children": [
        "IPY_MODEL_e43f8c3acfbd4470b3afa2f4f8b1b1d3",
        "IPY_MODEL_2d28f38b49a14714bfc4423ebdccb69d",
        "IPY_MODEL_1446647f33d24a3d91cbf1a405023d8e"
       ],
       "layout": "IPY_MODEL_349100e989994f1a833c7f8911bc2efd",
       "tabbable": null,
       "tooltip": null
      }
     },
     "5c465ec958b14b6fb245348bb266b30d": {
      "model_module": "@jupyter-widgets/controls",
      "model_module_version": "2.0.0",
      "model_name": "HTMLModel",
      "state": {
       "_dom_classes": [],
       "_model_module": "@jupyter-widgets/controls",
       "_model_module_version": "2.0.0",
       "_model_name": "HTMLModel",
       "_view_count": null,
       "_view_module": "@jupyter-widgets/controls",
       "_view_module_version": "2.0.0",
       "_view_name": "HTMLView",
       "description": "",
       "description_allow_html": false,
       "layout": "IPY_MODEL_1adc0fc666354a4e8268c54a9196b799",
       "placeholder": "​",
       "style": "IPY_MODEL_dd09f84cae004e78ac7bc87099e09a07",
       "tabbable": null,
       "tooltip": null,
       "value": " 25.0/25.0 [00:00&lt;00:00, 2.89kB/s]"
      }
     },
     "62f2a78dc23345a0983e643f56ae8cf8": {
      "model_module": "@jupyter-widgets/controls",
      "model_module_version": "2.0.0",
      "model_name": "HTMLModel",
      "state": {
       "_dom_classes": [],
       "_model_module": "@jupyter-widgets/controls",
       "_model_module_version": "2.0.0",
       "_model_name": "HTMLModel",
       "_view_count": null,
       "_view_module": "@jupyter-widgets/controls",
       "_view_module_version": "2.0.0",
       "_view_name": "HTMLView",
       "description": "",
       "description_allow_html": false,
       "layout": "IPY_MODEL_0385f8c2ed8f4754b22b083a345a19ad",
       "placeholder": "​",
       "style": "IPY_MODEL_c731f8b1b09141ee92d37a97b9717c20",
       "tabbable": null,
       "tooltip": null,
       "value": "model.safetensors: 100%"
      }
     },
     "64595a1a2497483da7b00581f23104a3": {
      "model_module": "@jupyter-widgets/base",
      "model_module_version": "2.0.0",
      "model_name": "LayoutModel",
      "state": {
       "_model_module": "@jupyter-widgets/base",
       "_model_module_version": "2.0.0",
       "_model_name": "LayoutModel",
       "_view_count": null,
       "_view_module": "@jupyter-widgets/base",
       "_view_module_version": "2.0.0",
       "_view_name": "LayoutView",
       "align_content": null,
       "align_items": null,
       "align_self": null,
       "border_bottom": null,
       "border_left": null,
       "border_right": null,
       "border_top": null,
       "bottom": null,
       "display": null,
       "flex": null,
       "flex_flow": null,
       "grid_area": null,
       "grid_auto_columns": null,
       "grid_auto_flow": null,
       "grid_auto_rows": null,
       "grid_column": null,
       "grid_gap": null,
       "grid_row": null,
       "grid_template_areas": null,
       "grid_template_columns": null,
       "grid_template_rows": null,
       "height": null,
       "justify_content": null,
       "justify_items": null,
       "left": null,
       "margin": null,
       "max_height": null,
       "max_width": null,
       "min_height": null,
       "min_width": null,
       "object_fit": null,
       "object_position": null,
       "order": null,
       "overflow": null,
       "padding": null,
       "right": null,
       "top": null,
       "visibility": null,
       "width": null
      }
     },
     "6ae809c5c7364b2cb2028789983bcc5e": {
      "model_module": "@jupyter-widgets/controls",
      "model_module_version": "2.0.0",
      "model_name": "ProgressStyleModel",
      "state": {
       "_model_module": "@jupyter-widgets/controls",
       "_model_module_version": "2.0.0",
       "_model_name": "ProgressStyleModel",
       "_view_count": null,
       "_view_module": "@jupyter-widgets/base",
       "_view_module_version": "2.0.0",
       "_view_name": "StyleView",
       "bar_color": null,
       "description_width": ""
      }
     },
     "7c4c6550e3604d3e9e21f0cccd70cc28": {
      "model_module": "@jupyter-widgets/base",
      "model_module_version": "2.0.0",
      "model_name": "LayoutModel",
      "state": {
       "_model_module": "@jupyter-widgets/base",
       "_model_module_version": "2.0.0",
       "_model_name": "LayoutModel",
       "_view_count": null,
       "_view_module": "@jupyter-widgets/base",
       "_view_module_version": "2.0.0",
       "_view_name": "LayoutView",
       "align_content": null,
       "align_items": null,
       "align_self": null,
       "border_bottom": null,
       "border_left": null,
       "border_right": null,
       "border_top": null,
       "bottom": null,
       "display": null,
       "flex": null,
       "flex_flow": null,
       "grid_area": null,
       "grid_auto_columns": null,
       "grid_auto_flow": null,
       "grid_auto_rows": null,
       "grid_column": null,
       "grid_gap": null,
       "grid_row": null,
       "grid_template_areas": null,
       "grid_template_columns": null,
       "grid_template_rows": null,
       "height": null,
       "justify_content": null,
       "justify_items": null,
       "left": null,
       "margin": null,
       "max_height": null,
       "max_width": null,
       "min_height": null,
       "min_width": null,
       "object_fit": null,
       "object_position": null,
       "order": null,
       "overflow": null,
       "padding": null,
       "right": null,
       "top": null,
       "visibility": null,
       "width": null
      }
     },
     "81ab4427cdf64b848783424e4d604543": {
      "model_module": "@jupyter-widgets/controls",
      "model_module_version": "2.0.0",
      "model_name": "HTMLStyleModel",
      "state": {
       "_model_module": "@jupyter-widgets/controls",
       "_model_module_version": "2.0.0",
       "_model_name": "HTMLStyleModel",
       "_view_count": null,
       "_view_module": "@jupyter-widgets/base",
       "_view_module_version": "2.0.0",
       "_view_name": "StyleView",
       "background": null,
       "description_width": "",
       "font_size": null,
       "text_color": null
      }
     },
     "88fa72ad0d8c45ba963e761e2852e33d": {
      "model_module": "@jupyter-widgets/controls",
      "model_module_version": "2.0.0",
      "model_name": "ProgressStyleModel",
      "state": {
       "_model_module": "@jupyter-widgets/controls",
       "_model_module_version": "2.0.0",
       "_model_name": "ProgressStyleModel",
       "_view_count": null,
       "_view_module": "@jupyter-widgets/base",
       "_view_module_version": "2.0.0",
       "_view_name": "StyleView",
       "bar_color": null,
       "description_width": ""
      }
     },
     "8d8209a295b94ce78661d151e2fa8c45": {
      "model_module": "@jupyter-widgets/base",
      "model_module_version": "2.0.0",
      "model_name": "LayoutModel",
      "state": {
       "_model_module": "@jupyter-widgets/base",
       "_model_module_version": "2.0.0",
       "_model_name": "LayoutModel",
       "_view_count": null,
       "_view_module": "@jupyter-widgets/base",
       "_view_module_version": "2.0.0",
       "_view_name": "LayoutView",
       "align_content": null,
       "align_items": null,
       "align_self": null,
       "border_bottom": null,
       "border_left": null,
       "border_right": null,
       "border_top": null,
       "bottom": null,
       "display": null,
       "flex": null,
       "flex_flow": null,
       "grid_area": null,
       "grid_auto_columns": null,
       "grid_auto_flow": null,
       "grid_auto_rows": null,
       "grid_column": null,
       "grid_gap": null,
       "grid_row": null,
       "grid_template_areas": null,
       "grid_template_columns": null,
       "grid_template_rows": null,
       "height": null,
       "justify_content": null,
       "justify_items": null,
       "left": null,
       "margin": null,
       "max_height": null,
       "max_width": null,
       "min_height": null,
       "min_width": null,
       "object_fit": null,
       "object_position": null,
       "order": null,
       "overflow": null,
       "padding": null,
       "right": null,
       "top": null,
       "visibility": null,
       "width": null
      }
     },
     "8e908171fd784a8fb7121c0628edaee8": {
      "model_module": "@jupyter-widgets/controls",
      "model_module_version": "2.0.0",
      "model_name": "FloatProgressModel",
      "state": {
       "_dom_classes": [],
       "_model_module": "@jupyter-widgets/controls",
       "_model_module_version": "2.0.0",
       "_model_name": "FloatProgressModel",
       "_view_count": null,
       "_view_module": "@jupyter-widgets/controls",
       "_view_module_version": "2.0.0",
       "_view_name": "ProgressView",
       "bar_style": "success",
       "description": "",
       "description_allow_html": false,
       "layout": "IPY_MODEL_1800e49129b04dbd973cab4130f2b9f1",
       "max": 1355863.0,
       "min": 0.0,
       "orientation": "horizontal",
       "style": "IPY_MODEL_88fa72ad0d8c45ba963e761e2852e33d",
       "tabbable": null,
       "tooltip": null,
       "value": 1355863.0
      }
     },
     "91f5ad30b6af4168a44b1423492cfa35": {
      "model_module": "@jupyter-widgets/base",
      "model_module_version": "2.0.0",
      "model_name": "LayoutModel",
      "state": {
       "_model_module": "@jupyter-widgets/base",
       "_model_module_version": "2.0.0",
       "_model_name": "LayoutModel",
       "_view_count": null,
       "_view_module": "@jupyter-widgets/base",
       "_view_module_version": "2.0.0",
       "_view_name": "LayoutView",
       "align_content": null,
       "align_items": null,
       "align_self": null,
       "border_bottom": null,
       "border_left": null,
       "border_right": null,
       "border_top": null,
       "bottom": null,
       "display": null,
       "flex": null,
       "flex_flow": null,
       "grid_area": null,
       "grid_auto_columns": null,
       "grid_auto_flow": null,
       "grid_auto_rows": null,
       "grid_column": null,
       "grid_gap": null,
       "grid_row": null,
       "grid_template_areas": null,
       "grid_template_columns": null,
       "grid_template_rows": null,
       "height": null,
       "justify_content": null,
       "justify_items": null,
       "left": null,
       "margin": null,
       "max_height": null,
       "max_width": null,
       "min_height": null,
       "min_width": null,
       "object_fit": null,
       "object_position": null,
       "order": null,
       "overflow": null,
       "padding": null,
       "right": null,
       "top": null,
       "visibility": null,
       "width": null
      }
     },
     "973cf64a621d46888415c0410868c84f": {
      "model_module": "@jupyter-widgets/base",
      "model_module_version": "2.0.0",
      "model_name": "LayoutModel",
      "state": {
       "_model_module": "@jupyter-widgets/base",
       "_model_module_version": "2.0.0",
       "_model_name": "LayoutModel",
       "_view_count": null,
       "_view_module": "@jupyter-widgets/base",
       "_view_module_version": "2.0.0",
       "_view_name": "LayoutView",
       "align_content": null,
       "align_items": null,
       "align_self": null,
       "border_bottom": null,
       "border_left": null,
       "border_right": null,
       "border_top": null,
       "bottom": null,
       "display": null,
       "flex": null,
       "flex_flow": null,
       "grid_area": null,
       "grid_auto_columns": null,
       "grid_auto_flow": null,
       "grid_auto_rows": null,
       "grid_column": null,
       "grid_gap": null,
       "grid_row": null,
       "grid_template_areas": null,
       "grid_template_columns": null,
       "grid_template_rows": null,
       "height": null,
       "justify_content": null,
       "justify_items": null,
       "left": null,
       "margin": null,
       "max_height": null,
       "max_width": null,
       "min_height": null,
       "min_width": null,
       "object_fit": null,
       "object_position": null,
       "order": null,
       "overflow": null,
       "padding": null,
       "right": null,
       "top": null,
       "visibility": null,
       "width": null
      }
     },
     "9c26b1f51d6940c1b9c00fc1532712b7": {
      "model_module": "@jupyter-widgets/base",
      "model_module_version": "2.0.0",
      "model_name": "LayoutModel",
      "state": {
       "_model_module": "@jupyter-widgets/base",
       "_model_module_version": "2.0.0",
       "_model_name": "LayoutModel",
       "_view_count": null,
       "_view_module": "@jupyter-widgets/base",
       "_view_module_version": "2.0.0",
       "_view_name": "LayoutView",
       "align_content": null,
       "align_items": null,
       "align_self": null,
       "border_bottom": null,
       "border_left": null,
       "border_right": null,
       "border_top": null,
       "bottom": null,
       "display": null,
       "flex": null,
       "flex_flow": null,
       "grid_area": null,
       "grid_auto_columns": null,
       "grid_auto_flow": null,
       "grid_auto_rows": null,
       "grid_column": null,
       "grid_gap": null,
       "grid_row": null,
       "grid_template_areas": null,
       "grid_template_columns": null,
       "grid_template_rows": null,
       "height": null,
       "justify_content": null,
       "justify_items": null,
       "left": null,
       "margin": null,
       "max_height": null,
       "max_width": null,
       "min_height": null,
       "min_width": null,
       "object_fit": null,
       "object_position": null,
       "order": null,
       "overflow": null,
       "padding": null,
       "right": null,
       "top": null,
       "visibility": null,
       "width": null
      }
     },
     "9ce5d8e817c24715b46b682987ba7753": {
      "model_module": "@jupyter-widgets/controls",
      "model_module_version": "2.0.0",
      "model_name": "HTMLStyleModel",
      "state": {
       "_model_module": "@jupyter-widgets/controls",
       "_model_module_version": "2.0.0",
       "_model_name": "HTMLStyleModel",
       "_view_count": null,
       "_view_module": "@jupyter-widgets/base",
       "_view_module_version": "2.0.0",
       "_view_name": "StyleView",
       "background": null,
       "description_width": "",
       "font_size": null,
       "text_color": null
      }
     },
     "9d91fc965d854bd09f2500c64b3c7ae5": {
      "model_module": "@jupyter-widgets/base",
      "model_module_version": "2.0.0",
      "model_name": "LayoutModel",
      "state": {
       "_model_module": "@jupyter-widgets/base",
       "_model_module_version": "2.0.0",
       "_model_name": "LayoutModel",
       "_view_count": null,
       "_view_module": "@jupyter-widgets/base",
       "_view_module_version": "2.0.0",
       "_view_name": "LayoutView",
       "align_content": null,
       "align_items": null,
       "align_self": null,
       "border_bottom": null,
       "border_left": null,
       "border_right": null,
       "border_top": null,
       "bottom": null,
       "display": null,
       "flex": null,
       "flex_flow": null,
       "grid_area": null,
       "grid_auto_columns": null,
       "grid_auto_flow": null,
       "grid_auto_rows": null,
       "grid_column": null,
       "grid_gap": null,
       "grid_row": null,
       "grid_template_areas": null,
       "grid_template_columns": null,
       "grid_template_rows": null,
       "height": null,
       "justify_content": null,
       "justify_items": null,
       "left": null,
       "margin": null,
       "max_height": null,
       "max_width": null,
       "min_height": null,
       "min_width": null,
       "object_fit": null,
       "object_position": null,
       "order": null,
       "overflow": null,
       "padding": null,
       "right": null,
       "top": null,
       "visibility": null,
       "width": null
      }
     },
     "a1824f81fb914872981f944de0ee22f2": {
      "model_module": "@jupyter-widgets/controls",
      "model_module_version": "2.0.0",
      "model_name": "ProgressStyleModel",
      "state": {
       "_model_module": "@jupyter-widgets/controls",
       "_model_module_version": "2.0.0",
       "_model_name": "ProgressStyleModel",
       "_view_count": null,
       "_view_module": "@jupyter-widgets/base",
       "_view_module_version": "2.0.0",
       "_view_name": "StyleView",
       "bar_color": null,
       "description_width": ""
      }
     },
     "a6114110aa09412fb46ff6ab1a7e1484": {
      "model_module": "@jupyter-widgets/base",
      "model_module_version": "2.0.0",
      "model_name": "LayoutModel",
      "state": {
       "_model_module": "@jupyter-widgets/base",
       "_model_module_version": "2.0.0",
       "_model_name": "LayoutModel",
       "_view_count": null,
       "_view_module": "@jupyter-widgets/base",
       "_view_module_version": "2.0.0",
       "_view_name": "LayoutView",
       "align_content": null,
       "align_items": null,
       "align_self": null,
       "border_bottom": null,
       "border_left": null,
       "border_right": null,
       "border_top": null,
       "bottom": null,
       "display": null,
       "flex": null,
       "flex_flow": null,
       "grid_area": null,
       "grid_auto_columns": null,
       "grid_auto_flow": null,
       "grid_auto_rows": null,
       "grid_column": null,
       "grid_gap": null,
       "grid_row": null,
       "grid_template_areas": null,
       "grid_template_columns": null,
       "grid_template_rows": null,
       "height": null,
       "justify_content": null,
       "justify_items": null,
       "left": null,
       "margin": null,
       "max_height": null,
       "max_width": null,
       "min_height": null,
       "min_width": null,
       "object_fit": null,
       "object_position": null,
       "order": null,
       "overflow": null,
       "padding": null,
       "right": null,
       "top": null,
       "visibility": null,
       "width": null
      }
     },
     "a7345bf54f2c40e0ae97705dabc92acf": {
      "model_module": "@jupyter-widgets/controls",
      "model_module_version": "2.0.0",
      "model_name": "HTMLModel",
      "state": {
       "_dom_classes": [],
       "_model_module": "@jupyter-widgets/controls",
       "_model_module_version": "2.0.0",
       "_model_name": "HTMLModel",
       "_view_count": null,
       "_view_module": "@jupyter-widgets/controls",
       "_view_module_version": "2.0.0",
       "_view_name": "HTMLView",
       "description": "",
       "description_allow_html": false,
       "layout": "IPY_MODEL_40d311683c78407599b9f9aeabdf1bf5",
       "placeholder": "​",
       "style": "IPY_MODEL_b0b9068d80304cd2a35d228af2e2785c",
       "tabbable": null,
       "tooltip": null,
       "value": " 899k/899k [00:00&lt;00:00, 1.91MB/s]"
      }
     },
     "a9fb697c8c204159b5886a9909bcd374": {
      "model_module": "@jupyter-widgets/base",
      "model_module_version": "2.0.0",
      "model_name": "LayoutModel",
      "state": {
       "_model_module": "@jupyter-widgets/base",
       "_model_module_version": "2.0.0",
       "_model_name": "LayoutModel",
       "_view_count": null,
       "_view_module": "@jupyter-widgets/base",
       "_view_module_version": "2.0.0",
       "_view_name": "LayoutView",
       "align_content": null,
       "align_items": null,
       "align_self": null,
       "border_bottom": null,
       "border_left": null,
       "border_right": null,
       "border_top": null,
       "bottom": null,
       "display": null,
       "flex": null,
       "flex_flow": null,
       "grid_area": null,
       "grid_auto_columns": null,
       "grid_auto_flow": null,
       "grid_auto_rows": null,
       "grid_column": null,
       "grid_gap": null,
       "grid_row": null,
       "grid_template_areas": null,
       "grid_template_columns": null,
       "grid_template_rows": null,
       "height": null,
       "justify_content": null,
       "justify_items": null,
       "left": null,
       "margin": null,
       "max_height": null,
       "max_width": null,
       "min_height": null,
       "min_width": null,
       "object_fit": null,
       "object_position": null,
       "order": null,
       "overflow": null,
       "padding": null,
       "right": null,
       "top": null,
       "visibility": null,
       "width": null
      }
     },
     "b0b9068d80304cd2a35d228af2e2785c": {
      "model_module": "@jupyter-widgets/controls",
      "model_module_version": "2.0.0",
      "model_name": "HTMLStyleModel",
      "state": {
       "_model_module": "@jupyter-widgets/controls",
       "_model_module_version": "2.0.0",
       "_model_name": "HTMLStyleModel",
       "_view_count": null,
       "_view_module": "@jupyter-widgets/base",
       "_view_module_version": "2.0.0",
       "_view_name": "StyleView",
       "background": null,
       "description_width": "",
       "font_size": null,
       "text_color": null
      }
     },
     "ba623540babd4d678c8c6d09848bd98f": {
      "model_module": "@jupyter-widgets/controls",
      "model_module_version": "2.0.0",
      "model_name": "FloatProgressModel",
      "state": {
       "_dom_classes": [],
       "_model_module": "@jupyter-widgets/controls",
       "_model_module_version": "2.0.0",
       "_model_name": "FloatProgressModel",
       "_view_count": null,
       "_view_module": "@jupyter-widgets/controls",
       "_view_module_version": "2.0.0",
       "_view_name": "ProgressView",
       "bar_style": "success",
       "description": "",
       "description_allow_html": false,
       "layout": "IPY_MODEL_1a351542bb8e40469e125e53276e3df2",
       "max": 456318.0,
       "min": 0.0,
       "orientation": "horizontal",
       "style": "IPY_MODEL_db5e8ff635594e6c8e82043a52c07b2c",
       "tabbable": null,
       "tooltip": null,
       "value": 456318.0
      }
     },
     "bf34b0e3cc814bdb8c4ee89c6a702f74": {
      "model_module": "@jupyter-widgets/controls",
      "model_module_version": "2.0.0",
      "model_name": "HBoxModel",
      "state": {
       "_dom_classes": [],
       "_model_module": "@jupyter-widgets/controls",
       "_model_module_version": "2.0.0",
       "_model_name": "HBoxModel",
       "_view_count": null,
       "_view_module": "@jupyter-widgets/controls",
       "_view_module_version": "2.0.0",
       "_view_name": "HBoxView",
       "box_style": "",
       "children": [
        "IPY_MODEL_25ab95cb76724f1284369c002c69df71",
        "IPY_MODEL_fbdba15b51e3490795350a74bfd8d3e9",
        "IPY_MODEL_a7345bf54f2c40e0ae97705dabc92acf"
       ],
       "layout": "IPY_MODEL_4772b7b3048d41eba107f74ada46cb04",
       "tabbable": null,
       "tooltip": null
      }
     },
     "bfc5133752144df39e59376e3d291758": {
      "model_module": "@jupyter-widgets/controls",
      "model_module_version": "2.0.0",
      "model_name": "ProgressStyleModel",
      "state": {
       "_model_module": "@jupyter-widgets/controls",
       "_model_module_version": "2.0.0",
       "_model_name": "ProgressStyleModel",
       "_view_count": null,
       "_view_module": "@jupyter-widgets/base",
       "_view_module_version": "2.0.0",
       "_view_name": "StyleView",
       "bar_color": null,
       "description_width": ""
      }
     },
     "c36ac67eb5034118b242ccdbb5b0b8fa": {
      "model_module": "@jupyter-widgets/controls",
      "model_module_version": "2.0.0",
      "model_name": "FloatProgressModel",
      "state": {
       "_dom_classes": [],
       "_model_module": "@jupyter-widgets/controls",
       "_model_module_version": "2.0.0",
       "_model_name": "FloatProgressModel",
       "_view_count": null,
       "_view_module": "@jupyter-widgets/controls",
       "_view_module_version": "2.0.0",
       "_view_name": "ProgressView",
       "bar_style": "success",
       "description": "",
       "description_allow_html": false,
       "layout": "IPY_MODEL_21e9ce4af1d2455daceef1123f558663",
       "max": 25.0,
       "min": 0.0,
       "orientation": "horizontal",
       "style": "IPY_MODEL_1c29f11911b648008a85752e9c0da95c",
       "tabbable": null,
       "tooltip": null,
       "value": 25.0
      }
     },
     "c45980f09aa84a43a58beec5c7b5701a": {
      "model_module": "@jupyter-widgets/controls",
      "model_module_version": "2.0.0",
      "model_name": "HTMLModel",
      "state": {
       "_dom_classes": [],
       "_model_module": "@jupyter-widgets/controls",
       "_model_module_version": "2.0.0",
       "_model_name": "HTMLModel",
       "_view_count": null,
       "_view_module": "@jupyter-widgets/controls",
       "_view_module_version": "2.0.0",
       "_view_name": "HTMLView",
       "description": "",
       "description_allow_html": false,
       "layout": "IPY_MODEL_01523d38b2404353a52ddab8ffa41157",
       "placeholder": "​",
       "style": "IPY_MODEL_295339e475234fb68c51a16137cd88e9",
       "tabbable": null,
       "tooltip": null,
       "value": " 456k/456k [00:00&lt;00:00, 12.7MB/s]"
      }
     },
     "c731f8b1b09141ee92d37a97b9717c20": {
      "model_module": "@jupyter-widgets/controls",
      "model_module_version": "2.0.0",
      "model_name": "HTMLStyleModel",
      "state": {
       "_model_module": "@jupyter-widgets/controls",
       "_model_module_version": "2.0.0",
       "_model_name": "HTMLStyleModel",
       "_view_count": null,
       "_view_module": "@jupyter-widgets/base",
       "_view_module_version": "2.0.0",
       "_view_name": "StyleView",
       "background": null,
       "description_width": "",
       "font_size": null,
       "text_color": null
      }
     },
     "d0d2f89e64bf4cbab238ef13d3647aa0": {
      "model_module": "@jupyter-widgets/controls",
      "model_module_version": "2.0.0",
      "model_name": "HBoxModel",
      "state": {
       "_dom_classes": [],
       "_model_module": "@jupyter-widgets/controls",
       "_model_module_version": "2.0.0",
       "_model_name": "HBoxModel",
       "_view_count": null,
       "_view_module": "@jupyter-widgets/controls",
       "_view_module_version": "2.0.0",
       "_view_name": "HBoxView",
       "box_style": "",
       "children": [
        "IPY_MODEL_db591c1d239849a8a203c56ae5db3b3e",
        "IPY_MODEL_c36ac67eb5034118b242ccdbb5b0b8fa",
        "IPY_MODEL_5c465ec958b14b6fb245348bb266b30d"
       ],
       "layout": "IPY_MODEL_570b0cf3158e4c38bb91f06e425cc06c",
       "tabbable": null,
       "tooltip": null
      }
     },
     "da44c627d55c45dc8852baa645886969": {
      "model_module": "@jupyter-widgets/controls",
      "model_module_version": "2.0.0",
      "model_name": "HTMLStyleModel",
      "state": {
       "_model_module": "@jupyter-widgets/controls",
       "_model_module_version": "2.0.0",
       "_model_name": "HTMLStyleModel",
       "_view_count": null,
       "_view_module": "@jupyter-widgets/base",
       "_view_module_version": "2.0.0",
       "_view_name": "StyleView",
       "background": null,
       "description_width": "",
       "font_size": null,
       "text_color": null
      }
     },
     "db591c1d239849a8a203c56ae5db3b3e": {
      "model_module": "@jupyter-widgets/controls",
      "model_module_version": "2.0.0",
      "model_name": "HTMLModel",
      "state": {
       "_dom_classes": [],
       "_model_module": "@jupyter-widgets/controls",
       "_model_module_version": "2.0.0",
       "_model_name": "HTMLModel",
       "_view_count": null,
       "_view_module": "@jupyter-widgets/controls",
       "_view_module_version": "2.0.0",
       "_view_name": "HTMLView",
       "description": "",
       "description_allow_html": false,
       "layout": "IPY_MODEL_7c4c6550e3604d3e9e21f0cccd70cc28",
       "placeholder": "​",
       "style": "IPY_MODEL_379f3ec30d96469bb8025b17ea0baf83",
       "tabbable": null,
       "tooltip": null,
       "value": "tokenizer_config.json: 100%"
      }
     },
     "db5e8ff635594e6c8e82043a52c07b2c": {
      "model_module": "@jupyter-widgets/controls",
      "model_module_version": "2.0.0",
      "model_name": "ProgressStyleModel",
      "state": {
       "_model_module": "@jupyter-widgets/controls",
       "_model_module_version": "2.0.0",
       "_model_name": "ProgressStyleModel",
       "_view_count": null,
       "_view_module": "@jupyter-widgets/base",
       "_view_module_version": "2.0.0",
       "_view_name": "StyleView",
       "bar_color": null,
       "description_width": ""
      }
     },
     "dd09f84cae004e78ac7bc87099e09a07": {
      "model_module": "@jupyter-widgets/controls",
      "model_module_version": "2.0.0",
      "model_name": "HTMLStyleModel",
      "state": {
       "_model_module": "@jupyter-widgets/controls",
       "_model_module_version": "2.0.0",
       "_model_name": "HTMLStyleModel",
       "_view_count": null,
       "_view_module": "@jupyter-widgets/base",
       "_view_module_version": "2.0.0",
       "_view_name": "StyleView",
       "background": null,
       "description_width": "",
       "font_size": null,
       "text_color": null
      }
     },
     "e388a8598f824af7b59f25f34d8fa938": {
      "model_module": "@jupyter-widgets/base",
      "model_module_version": "2.0.0",
      "model_name": "LayoutModel",
      "state": {
       "_model_module": "@jupyter-widgets/base",
       "_model_module_version": "2.0.0",
       "_model_name": "LayoutModel",
       "_view_count": null,
       "_view_module": "@jupyter-widgets/base",
       "_view_module_version": "2.0.0",
       "_view_name": "LayoutView",
       "align_content": null,
       "align_items": null,
       "align_self": null,
       "border_bottom": null,
       "border_left": null,
       "border_right": null,
       "border_top": null,
       "bottom": null,
       "display": null,
       "flex": null,
       "flex_flow": null,
       "grid_area": null,
       "grid_auto_columns": null,
       "grid_auto_flow": null,
       "grid_auto_rows": null,
       "grid_column": null,
       "grid_gap": null,
       "grid_row": null,
       "grid_template_areas": null,
       "grid_template_columns": null,
       "grid_template_rows": null,
       "height": null,
       "justify_content": null,
       "justify_items": null,
       "left": null,
       "margin": null,
       "max_height": null,
       "max_width": null,
       "min_height": null,
       "min_width": null,
       "object_fit": null,
       "object_position": null,
       "order": null,
       "overflow": null,
       "padding": null,
       "right": null,
       "top": null,
       "visibility": null,
       "width": null
      }
     },
     "e43f8c3acfbd4470b3afa2f4f8b1b1d3": {
      "model_module": "@jupyter-widgets/controls",
      "model_module_version": "2.0.0",
      "model_name": "HTMLModel",
      "state": {
       "_dom_classes": [],
       "_model_module": "@jupyter-widgets/controls",
       "_model_module_version": "2.0.0",
       "_model_name": "HTMLModel",
       "_view_count": null,
       "_view_module": "@jupyter-widgets/controls",
       "_view_module_version": "2.0.0",
       "_view_name": "HTMLView",
       "description": "",
       "description_allow_html": false,
       "layout": "IPY_MODEL_8d8209a295b94ce78661d151e2fa8c45",
       "placeholder": "​",
       "style": "IPY_MODEL_da44c627d55c45dc8852baa645886969",
       "tabbable": null,
       "tooltip": null,
       "value": "config.json: 100%"
      }
     },
     "e84c5519cbc74ab98da693bd9c9835ae": {
      "model_module": "@jupyter-widgets/controls",
      "model_module_version": "2.0.0",
      "model_name": "FloatProgressModel",
      "state": {
       "_dom_classes": [],
       "_model_module": "@jupyter-widgets/controls",
       "_model_module_version": "2.0.0",
       "_model_name": "FloatProgressModel",
       "_view_count": null,
       "_view_module": "@jupyter-widgets/controls",
       "_view_module_version": "2.0.0",
       "_view_name": "ProgressView",
       "bar_style": "success",
       "description": "",
       "description_allow_html": false,
       "layout": "IPY_MODEL_57b0eda0b27840ebb83ca33380a65903",
       "max": 498818054.0,
       "min": 0.0,
       "orientation": "horizontal",
       "style": "IPY_MODEL_a1824f81fb914872981f944de0ee22f2",
       "tabbable": null,
       "tooltip": null,
       "value": 498818054.0
      }
     },
     "ee56c0e51c454df6a51e1eb9a37532ac": {
      "model_module": "@jupyter-widgets/base",
      "model_module_version": "2.0.0",
      "model_name": "LayoutModel",
      "state": {
       "_model_module": "@jupyter-widgets/base",
       "_model_module_version": "2.0.0",
       "_model_name": "LayoutModel",
       "_view_count": null,
       "_view_module": "@jupyter-widgets/base",
       "_view_module_version": "2.0.0",
       "_view_name": "LayoutView",
       "align_content": null,
       "align_items": null,
       "align_self": null,
       "border_bottom": null,
       "border_left": null,
       "border_right": null,
       "border_top": null,
       "bottom": null,
       "display": null,
       "flex": null,
       "flex_flow": null,
       "grid_area": null,
       "grid_auto_columns": null,
       "grid_auto_flow": null,
       "grid_auto_rows": null,
       "grid_column": null,
       "grid_gap": null,
       "grid_row": null,
       "grid_template_areas": null,
       "grid_template_columns": null,
       "grid_template_rows": null,
       "height": null,
       "justify_content": null,
       "justify_items": null,
       "left": null,
       "margin": null,
       "max_height": null,
       "max_width": null,
       "min_height": null,
       "min_width": null,
       "object_fit": null,
       "object_position": null,
       "order": null,
       "overflow": null,
       "padding": null,
       "right": null,
       "top": null,
       "visibility": null,
       "width": null
      }
     },
     "f4dd40bc452f4bfc8271c0f471544a41": {
      "model_module": "@jupyter-widgets/controls",
      "model_module_version": "2.0.0",
      "model_name": "HTMLStyleModel",
      "state": {
       "_model_module": "@jupyter-widgets/controls",
       "_model_module_version": "2.0.0",
       "_model_name": "HTMLStyleModel",
       "_view_count": null,
       "_view_module": "@jupyter-widgets/base",
       "_view_module_version": "2.0.0",
       "_view_name": "StyleView",
       "background": null,
       "description_width": "",
       "font_size": null,
       "text_color": null
      }
     },
     "fbdba15b51e3490795350a74bfd8d3e9": {
      "model_module": "@jupyter-widgets/controls",
      "model_module_version": "2.0.0",
      "model_name": "FloatProgressModel",
      "state": {
       "_dom_classes": [],
       "_model_module": "@jupyter-widgets/controls",
       "_model_module_version": "2.0.0",
       "_model_name": "FloatProgressModel",
       "_view_count": null,
       "_view_module": "@jupyter-widgets/controls",
       "_view_module_version": "2.0.0",
       "_view_name": "ProgressView",
       "bar_style": "success",
       "description": "",
       "description_allow_html": false,
       "layout": "IPY_MODEL_91f5ad30b6af4168a44b1423492cfa35",
       "max": 898823.0,
       "min": 0.0,
       "orientation": "horizontal",
       "style": "IPY_MODEL_6ae809c5c7364b2cb2028789983bcc5e",
       "tabbable": null,
       "tooltip": null,
       "value": 898823.0
      }
     }
    },
    "version_major": 2,
    "version_minor": 0
   }
  }
 },
 "nbformat": 4,
 "nbformat_minor": 5
}
